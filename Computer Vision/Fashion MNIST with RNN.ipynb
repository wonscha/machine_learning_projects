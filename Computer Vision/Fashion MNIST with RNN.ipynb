{
 "cells": [
  {
   "cell_type": "markdown",
   "id": "500369dd",
   "metadata": {},
   "source": [
    "### Import necessary libraries"
   ]
  },
  {
   "cell_type": "code",
   "execution_count": 1,
   "id": "a5b2d37d",
   "metadata": {},
   "outputs": [],
   "source": [
    "import tensorflow as tf\n",
    "\n",
    "import numpy as np\n",
    "import matplotlib.pyplot as plt\n",
    "import sklearn\n",
    "import pandas as pd\n",
    "\n",
    "from tensorflow.keras.utils import plot_model\n",
    "from sklearn.metrics import confusion_matrix\n",
    "import seaborn as sns"
   ]
  },
  {
   "cell_type": "markdown",
   "id": "eb7e6cb9",
   "metadata": {},
   "source": [
    "### a. Get the data"
   ]
  },
  {
   "cell_type": "code",
   "execution_count": 2,
   "id": "9502dab0",
   "metadata": {},
   "outputs": [],
   "source": [
    "fashion_mnist = tf.keras.datasets.fashion_mnist\n",
    "(train_images, train_labels), (test_images, test_labels) = fashion_mnist.load_data()"
   ]
  },
  {
   "cell_type": "code",
   "execution_count": 3,
   "id": "bd143f23",
   "metadata": {},
   "outputs": [],
   "source": [
    "train_set = {\n",
    "    'images': train_images,\n",
    "    'labels': train_labels\n",
    "}\n",
    "\n",
    "test_set = {\n",
    "    'images': test_images,\n",
    "    'labels': test_labels\n",
    "}"
   ]
  },
  {
   "cell_type": "code",
   "execution_count": 4,
   "id": "000d665e",
   "metadata": {},
   "outputs": [],
   "source": [
    "class_names = ['T-shirt/top', 'Trouser', 'Pullover', 'Dress', 'Coat',\n",
    "               'Sandal', 'Shirt', 'Sneaker', 'Bag', 'Ankle boot']"
   ]
  },
  {
   "cell_type": "markdown",
   "id": "75e21737",
   "metadata": {},
   "source": [
    "### b. Initial Exploration"
   ]
  },
  {
   "cell_type": "code",
   "execution_count": 5,
   "id": "f6520d95",
   "metadata": {},
   "outputs": [
    {
     "name": "stdout",
     "output_type": "stream",
     "text": [
      "Size of the training set:  {60000}\n",
      "Size of the testing set:  {10000}\n",
      "Image resolution of images:  (28, 28)\n",
      "Largest pixel value in dataset:  255\n"
     ]
    }
   ],
   "source": [
    "print('Size of the training set: ', {len(train_set['images'])})\n",
    "print('Size of the testing set: ', {len(test_set['images'])})\n",
    "print('Image resolution of images: ', train_set['images'][0].shape)\n",
    "print('Largest pixel value in dataset: ', np.amax(train_set['images']))"
   ]
  },
  {
   "cell_type": "markdown",
   "id": "b12ad941",
   "metadata": {},
   "source": [
    "### c. Data Pre-processing"
   ]
  },
  {
   "cell_type": "code",
   "execution_count": 6,
   "id": "e2df9a2a",
   "metadata": {},
   "outputs": [],
   "source": [
    "# Normalize the pixel values\n",
    "train_set['images'] = train_set['images'] / 255\n",
    "test_set['images'] = test_set['images'] / 255"
   ]
  },
  {
   "cell_type": "code",
   "execution_count": 7,
   "id": "2fac6068",
   "metadata": {},
   "outputs": [],
   "source": [
    "# Apply one-hot encoding to the labels\n",
    "train_set['labels'] = tf.keras.utils.to_categorical(train_set['labels'], num_classes=10)\n",
    "test_set['labels'] = tf.keras.utils.to_categorical(test_set['labels'], num_classes=10)"
   ]
  },
  {
   "cell_type": "code",
   "execution_count": 8,
   "id": "01699cf3",
   "metadata": {
    "scrolled": true
   },
   "outputs": [
    {
     "name": "stdout",
     "output_type": "stream",
     "text": [
      "Shape of training set labels:  (60000, 10)\n",
      "Shape of testing set labels:  (10000, 10)\n"
     ]
    }
   ],
   "source": [
    "print('Shape of training set labels: ', train_set['labels'].shape)\n",
    "print('Shape of testing set labels: ', test_set['labels'].shape)"
   ]
  },
  {
   "cell_type": "markdown",
   "id": "a0e9dd04",
   "metadata": {},
   "source": [
    "### d. Visualiztion"
   ]
  },
  {
   "cell_type": "code",
   "execution_count": 9,
   "id": "024cb318",
   "metadata": {},
   "outputs": [],
   "source": [
    "def visualize_img(ax, img, title): \n",
    "    ax.imshow(img, cmap=plt.cm.binary)\n",
    "    ax.set_xticks([])\n",
    "    ax.set_yticks([])\n",
    "    ax.set_xlabel(title)"
   ]
  },
  {
   "cell_type": "code",
   "execution_count": 10,
   "id": "16d1615b",
   "metadata": {},
   "outputs": [
    {
     "data": {
      "image/png": "[encoded data removed]",
      "text/plain": [
       "<Figure size 432x576 with 12 Axes>"
      ]
     },
     "metadata": {},
     "output_type": "display_data"
    },
    {
     "data": {
      "text/plain": [
       "<Figure size 432x288 with 0 Axes>"
      ]
     },
     "metadata": {},
     "output_type": "display_data"
    }
   ],
   "source": [
    "fig, axes = plt.subplots(nrows=4, ncols=3, figsize=(6, 8))\n",
    "\n",
    "for i in range(12):\n",
    "    img = train_set['images'][i]\n",
    "    title = class_names[np.argmax(train_set['labels'][i])]\n",
    "    visualize_img(axes[i // 3, i % 3], img, title)\n",
    "\n",
    "plt.show()\n",
    "plt.tight_layout()"
   ]
  },
  {
   "cell_type": "markdown",
   "id": "e36b0df9",
   "metadata": {},
   "source": [
    "### e. Training Data Preparation"
   ]
  },
  {
   "cell_type": "code",
   "execution_count": 11,
   "id": "487140bc",
   "metadata": {},
   "outputs": [],
   "source": [
    "from sklearn.model_selection import train_test_split\n",
    "\n",
    "X_train, X_val, y_train, y_val = train_test_split(train_set['images'], train_set['labels'], test_size=0.2, random_state=32)\n",
    "X_train = X_train[:,:,:]\n",
    "X_val = X_val[:,:,:]"
   ]
  },
  {
   "cell_type": "code",
   "execution_count": 12,
   "id": "4d59fcf5",
   "metadata": {},
   "outputs": [
    {
     "name": "stdout",
     "output_type": "stream",
     "text": [
      "(48000, 28, 28)\n",
      "(12000, 28, 28)\n",
      "(48000, 10)\n",
      "(12000, 10)\n"
     ]
    }
   ],
   "source": [
    "print(X_train.shape)\n",
    "print(X_val.shape)\n",
    "print(y_train.shape)\n",
    "print(y_val.shape)"
   ]
  },
  {
   "cell_type": "markdown",
   "id": "469b4827",
   "metadata": {},
   "source": [
    "### f. Build, Train, and Validate RNN Model"
   ]
  },
  {
   "cell_type": "code",
   "execution_count": 13,
   "id": "fe4bc40e",
   "metadata": {},
   "outputs": [
    {
     "name": "stdout",
     "output_type": "stream",
     "text": [
      "Metal device set to: Apple M1\n"
     ]
    },
    {
     "name": "stderr",
     "output_type": "stream",
     "text": [
      "2022-02-07 17:59:41.545190: I tensorflow/core/common_runtime/pluggable_device/pluggable_device_factory.cc:305] Could not identify NUMA node of platform GPU ID 0, defaulting to 0. Your kernel may not have been built with NUMA support.\n",
      "2022-02-07 17:59:41.545260: I tensorflow/core/common_runtime/pluggable_device/pluggable_device_factory.cc:271] Created TensorFlow device (/job:localhost/replica:0/task:0/device:GPU:0 with 0 MB memory) -> physical PluggableDevice (device: 0, name: METAL, pci bus id: <undefined>)\n"
     ]
    }
   ],
   "source": [
    "from tensorflow.keras import datasets, layers, models\n",
    "\n",
    "rnn_model = models.Sequential()\n",
    "rnn_model.add(layers.LSTM(128, input_shape=[28, 28]))\n",
    "rnn_model.add(layers.Dense(10, activation = 'softmax'))"
   ]
  },
  {
   "cell_type": "code",
   "execution_count": 14,
   "id": "6c0189c8",
   "metadata": {},
   "outputs": [],
   "source": [
    "rnn_model.compile(optimizer='adam', loss=tf.keras.losses.categorical_crossentropy, metrics=['accuracy'])"
   ]
  },
  {
   "cell_type": "code",
   "execution_count": 15,
   "id": "8f43c48c",
   "metadata": {},
   "outputs": [
    {
     "name": "stdout",
     "output_type": "stream",
     "text": [
      "Model: \"sequential\"\n",
      "_________________________________________________________________\n",
      "Layer (type)                 Output Shape              Param #   \n",
      "=================================================================\n",
      "lstm (LSTM)                  (None, 128)               80384     \n",
      "_________________________________________________________________\n",
      "dense (Dense)                (None, 10)                1290      \n",
      "=================================================================\n",
      "Total params: 81,674\n",
      "Trainable params: 81,674\n",
      "Non-trainable params: 0\n",
      "_________________________________________________________________\n"
     ]
    },
    {
     "data": {
      "image/png": "[encoded data removed]",
      "text/plain": [
       "<IPython.core.display.Image object>"
      ]
     },
     "execution_count": 15,
     "metadata": {},
     "output_type": "execute_result"
    }
   ],
   "source": [
    "rnn_model.summary()\n",
    "plot_model(rnn_model)"
   ]
  },
  {
   "cell_type": "code",
   "execution_count": 16,
   "id": "1393a950",
   "metadata": {
    "scrolled": false
   },
   "outputs": [
    {
     "name": "stderr",
     "output_type": "stream",
     "text": [
      "2022-02-07 17:59:42.073227: I tensorflow/compiler/mlir/mlir_graph_optimization_pass.cc:185] None of the MLIR Optimization Passes are enabled (registered 2)\n",
      "2022-02-07 17:59:42.073528: W tensorflow/core/platform/profile_utils/cpu_utils.cc:128] Failed to get CPU frequency: 0 Hz\n"
     ]
    },
    {
     "name": "stdout",
     "output_type": "stream",
     "text": [
      "Epoch 1/8\n"
     ]
    },
    {
     "name": "stderr",
     "output_type": "stream",
     "text": [
      "2022-02-07 17:59:42.377409: I tensorflow/core/grappler/optimizers/custom_graph_optimizer_registry.cc:112] Plugin optimizer for device_type GPU is enabled.\n",
      "2022-02-07 17:59:42.431029: I tensorflow/core/grappler/optimizers/custom_graph_optimizer_registry.cc:112] Plugin optimizer for device_type GPU is enabled.\n",
      "2022-02-07 17:59:42.523779: I tensorflow/core/grappler/optimizers/custom_graph_optimizer_registry.cc:112] Plugin optimizer for device_type GPU is enabled.\n"
     ]
    },
    {
     "name": "stdout",
     "output_type": "stream",
     "text": [
      "1500/1500 [==============================] - ETA: 0s - loss: 0.6497 - accuracy: 0.7595"
     ]
    },
    {
     "name": "stderr",
     "output_type": "stream",
     "text": [
      "2022-02-07 18:00:03.331564: I tensorflow/core/grappler/optimizers/custom_graph_optimizer_registry.cc:112] Plugin optimizer for device_type GPU is enabled.\n",
      "2022-02-07 18:00:03.353722: I tensorflow/core/grappler/optimizers/custom_graph_optimizer_registry.cc:112] Plugin optimizer for device_type GPU is enabled.\n"
     ]
    },
    {
     "name": "stdout",
     "output_type": "stream",
     "text": [
      "1500/1500 [==============================] - 24s 15ms/step - loss: 0.6497 - accuracy: 0.7595 - val_loss: 0.4816 - val_accuracy: 0.8221\n",
      "Epoch 2/8\n",
      "1500/1500 [==============================] - 23s 15ms/step - loss: 0.4362 - accuracy: 0.8402 - val_loss: 0.4179 - val_accuracy: 0.8472\n",
      "Epoch 3/8\n",
      "1500/1500 [==============================] - 23s 15ms/step - loss: 0.3852 - accuracy: 0.8566 - val_loss: 0.3677 - val_accuracy: 0.8606\n",
      "Epoch 4/8\n",
      "1500/1500 [==============================] - 23s 16ms/step - loss: 0.3534 - accuracy: 0.8687 - val_loss: 0.3588 - val_accuracy: 0.8688\n",
      "Epoch 5/8\n",
      "1500/1500 [==============================] - 23s 16ms/step - loss: 0.3328 - accuracy: 0.8755 - val_loss: 0.3412 - val_accuracy: 0.8732\n",
      "Epoch 6/8\n",
      "1500/1500 [==============================] - 23s 16ms/step - loss: 0.3116 - accuracy: 0.8861 - val_loss: 0.3375 - val_accuracy: 0.8776\n",
      "Epoch 7/8\n",
      "1500/1500 [==============================] - 23s 16ms/step - loss: 0.2978 - accuracy: 0.8899 - val_loss: 0.3258 - val_accuracy: 0.8762\n",
      "Epoch 8/8\n",
      "1500/1500 [==============================] - 23s 16ms/step - loss: 0.2840 - accuracy: 0.8954 - val_loss: 0.3125 - val_accuracy: 0.8825\n"
     ]
    }
   ],
   "source": [
    "rnn_history = rnn_model.fit(X_train, y_train, epochs=8, validation_data = (X_val, y_val))"
   ]
  },
  {
   "cell_type": "markdown",
   "id": "4f19bc8b",
   "metadata": {},
   "source": [
    "### g. Test and analyze the model"
   ]
  },
  {
   "cell_type": "code",
   "execution_count": 17,
   "id": "909f8ab8",
   "metadata": {
    "scrolled": false
   },
   "outputs": [
    {
     "data": {
      "image/png": "[encoded data removed]",
      "text/plain": [
       "<Figure size 576x360 with 1 Axes>"
      ]
     },
     "metadata": {
      "needs_background": "light"
     },
     "output_type": "display_data"
    }
   ],
   "source": [
    "df_accuracy = pd.DataFrame(rnn_history.history)\n",
    "df_accuracy = df_accuracy.drop(columns=['loss', 'val_loss'])\n",
    "df_accuracy.plot(figsize=(8,5))\n",
    "plt.grid(True)\n",
    "plt.gca().set_ylim(0.7,1)\n",
    "plt.xlabel('Epoch')\n",
    "plt.ylabel('Accuracy')\n",
    "plt.title('Learning Curves')\n",
    "plt.show()"
   ]
  },
  {
   "cell_type": "code",
   "execution_count": 18,
   "id": "d805e5f4",
   "metadata": {},
   "outputs": [],
   "source": [
    "X_test = test_set['images'][:,:,:]\n",
    "y_test = test_set['labels']"
   ]
  },
  {
   "cell_type": "code",
   "execution_count": 19,
   "id": "86d0a607",
   "metadata": {
    "scrolled": true
   },
   "outputs": [
    {
     "name": "stdout",
     "output_type": "stream",
     "text": [
      "  8/313 [..............................] - ETA: 2s - loss: 0.2982 - accuracy: 0.9023 "
     ]
    },
    {
     "name": "stderr",
     "output_type": "stream",
     "text": [
      "2022-02-07 18:02:48.855639: I tensorflow/core/grappler/optimizers/custom_graph_optimizer_registry.cc:112] Plugin optimizer for device_type GPU is enabled.\n",
      "2022-02-07 18:02:48.894960: I tensorflow/core/grappler/optimizers/custom_graph_optimizer_registry.cc:112] Plugin optimizer for device_type GPU is enabled.\n"
     ]
    },
    {
     "name": "stdout",
     "output_type": "stream",
     "text": [
      "313/313 [==============================] - 3s 8ms/step - loss: 0.3274 - accuracy: 0.8794\n",
      "Test Loss:  0.3274114429950714\n",
      "Test Accuracy:  0.8794000148773193\n"
     ]
    }
   ],
   "source": [
    "test_loss, test_accuracy = rnn_model.evaluate(X_test, y_test)\n",
    "print('Test Loss: ', test_loss)\n",
    "print('Test Accuracy: ', test_accuracy)"
   ]
  },
  {
   "cell_type": "code",
   "execution_count": 20,
   "id": "991ed71c",
   "metadata": {},
   "outputs": [],
   "source": [
    "def visualize_chart(ax, proba, actual): \n",
    "    x = np.arange(10)\n",
    "    mask_pred = np.argmax(proba)\n",
    "    mask_actual = np.argmax(actual)\n",
    "    mask_rest = np.delete(x, np.maximum(mask_pred, mask_actual))\n",
    "    mask_rest = np.delete(mask_rest, np.minimum(mask_pred, mask_actual))\n",
    "    \n",
    "    ax.bar(x[mask_pred], proba[mask_pred], color='blue')\n",
    "    ax.bar(x[mask_actual], proba[mask_actual], color='green')\n",
    "    ax.bar(x[mask_rest], proba[mask_rest], color='grey')\n",
    "    ax.set_xticks(x)\n",
    "    ax.set_yticks([])\n",
    "    ax.set_ylim(0, 1)"
   ]
  },
  {
   "cell_type": "code",
   "execution_count": 21,
   "id": "c4da52e5",
   "metadata": {},
   "outputs": [
    {
     "name": "stderr",
     "output_type": "stream",
     "text": [
      "2022-02-07 18:02:51.480456: I tensorflow/core/grappler/optimizers/custom_graph_optimizer_registry.cc:112] Plugin optimizer for device_type GPU is enabled.\n",
      "2022-02-07 18:02:51.498109: I tensorflow/core/grappler/optimizers/custom_graph_optimizer_registry.cc:112] Plugin optimizer for device_type GPU is enabled.\n"
     ]
    }
   ],
   "source": [
    "X_test_sample = X_test[33:37, :, :]\n",
    "y_proba_sample = rnn_model.predict(X_test_sample)\n",
    "y_actual_sample = y_test[33:37, :]"
   ]
  },
  {
   "cell_type": "code",
   "execution_count": 22,
   "id": "2a8c7a3e",
   "metadata": {},
   "outputs": [
    {
     "data": {
      "image/png": "[encoded data removed]",
      "text/plain": [
       "<Figure size 864x432 with 8 Axes>"
      ]
     },
     "metadata": {
      "needs_background": "light"
     },
     "output_type": "display_data"
    },
    {
     "data": {
      "text/plain": [
       "<Figure size 432x288 with 0 Axes>"
      ]
     },
     "metadata": {},
     "output_type": "display_data"
    }
   ],
   "source": [
    "fig, axes = plt.subplots(nrows=2, ncols=4, figsize=(12, 6))\n",
    "\n",
    "for i in range(4):\n",
    "    img = X_test_sample[i]\n",
    "    proba = y_proba_sample[i]\n",
    "    actual = y_actual_sample[i]\n",
    "    title = f'{class_names[np.argmax(y_actual_sample[i])]} ({np.argmax(y_actual_sample[i])})'\n",
    "    visualize_img(axes[2*i // 4, 2*i % 4], img, title)\n",
    "    visualize_chart(axes[2*i // 4, 2*i % 4 + 1], proba, actual)\n",
    "\n",
    "plt.show()\n",
    "plt.tight_layout()"
   ]
  },
  {
   "cell_type": "code",
   "execution_count": 23,
   "id": "8df35bc2",
   "metadata": {},
   "outputs": [
    {
     "name": "stdout",
     "output_type": "stream",
     "text": [
      "[[819   5   8  29   4   0 131   0   4   0]\n",
      " [  7 973   1  16   1   0   2   0   0   0]\n",
      " [ 11   3 744   9 157   0  74   0   2   0]\n",
      " [ 22   6   8 896  34   0  28   0   6   0]\n",
      " [  1   1  53  29 856   0  55   0   5   0]\n",
      " [  2   0   0   2   0 962   0  15   3  16]\n",
      " [133   4  63  31  92   0 667   0  10   0]\n",
      " [  0   0   0   0   0  30   0 949   0  21]\n",
      " [  7   0   3   5   4   4   4   3 970   0]\n",
      " [  1   0   0   0   0   9   1  30   1 958]]\n"
     ]
    },
    {
     "data": {
      "text/plain": [
       "<AxesSubplot:>"
      ]
     },
     "execution_count": 23,
     "metadata": {},
     "output_type": "execute_result"
    },
    {
     "data": {
      "image/png": "[encoded data removed]",
      "text/plain": [
       "<Figure size 432x288 with 2 Axes>"
      ]
     },
     "metadata": {
      "needs_background": "light"
     },
     "output_type": "display_data"
    }
   ],
   "source": [
    "y_test_classes = np.argmax(y_test, axis=1)\n",
    "y_pred = rnn_model.predict(X_test)\n",
    "y_pred_classes = np.argmax(y_pred, axis=1)\n",
    "cf_matrix = confusion_matrix(y_test_classes, y_pred_classes)\n",
    "\n",
    "print(cf_matrix)\n",
    "sns.heatmap(cf_matrix, annot=True)"
   ]
  }
 ],
 "metadata": {
  "kernelspec": {
   "display_name": "tf",
   "language": "python",
   "name": "tf"
  },
  "language_info": {
   "codemirror_mode": {
    "name": "ipython",
    "version": 3
   },
   "file_extension": ".py",
   "mimetype": "text/x-python",
   "name": "python",
   "nbconvert_exporter": "python",
   "pygments_lexer": "ipython3",
   "version": "3.8.12"
  }
 },
 "nbformat": 4,
 "nbformat_minor": 5
}
