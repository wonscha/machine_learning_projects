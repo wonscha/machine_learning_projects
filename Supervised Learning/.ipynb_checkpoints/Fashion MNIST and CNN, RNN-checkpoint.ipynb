{
 "cells": [
  {
   "cell_type": "markdown",
   "id": "0aa6b39f",
   "metadata": {},
   "source": [
    "### Import necessary libraries"
   ]
  },
  {
   "cell_type": "code",
   "execution_count": 1,
   "id": "3eeb7d94",
   "metadata": {},
   "outputs": [],
   "source": [
    "import tensorflow as tf\n",
    "\n",
    "import numpy as np\n",
    "import matplotlib.pyplot as plt"
   ]
  },
  {
   "cell_type": "markdown",
   "id": "95b5d75c",
   "metadata": {},
   "source": [
    "### a. Get the data"
   ]
  },
  {
   "cell_type": "code",
   "execution_count": 30,
   "id": "a7bf6e0d",
   "metadata": {},
   "outputs": [],
   "source": [
    "fashion_mnist = tf.keras.datasets.fashion_mnist\n",
    "(train_images, train_labels), (test_images, test_labels) = fashion_mnist.load_data()"
   ]
  },
  {
   "cell_type": "code",
   "execution_count": 31,
   "id": "0cfd9d51",
   "metadata": {},
   "outputs": [],
   "source": [
    "train_set = {\n",
    "    'images': train_images,\n",
    "    'labels': train_labels\n",
    "}\n",
    "\n",
    "test_set = {\n",
    "    'images': test_images,\n",
    "    'labels': test_labels\n",
    "}"
   ]
  },
  {
   "cell_type": "markdown",
   "id": "84ffaf2f",
   "metadata": {},
   "source": [
    "### b. Initial Exploration"
   ]
  },
  {
   "cell_type": "code",
   "execution_count": 27,
   "id": "452b16a9",
   "metadata": {},
   "outputs": [
    {
     "name": "stdout",
     "output_type": "stream",
     "text": [
      "Size of the training set:  {60000}\n",
      "Size of the testing set:  {10000}\n",
      "Image resolution of images:  (28, 28)\n",
      "Largest pixel value in dataset:  255\n"
     ]
    }
   ],
   "source": [
    "print('Size of the training set: ', {len(train_set['images'])})\n",
    "print('Size of the testing set: ', {len(test_set['images'])})\n",
    "print('Image resolution of images: ', train_set['images'][0].shape)\n",
    "print('Largest pixel value in dataset: ', np.amax(train_set['images']))"
   ]
  },
  {
   "cell_type": "markdown",
   "id": "ea187881",
   "metadata": {},
   "source": [
    "### c. Data Pre-processing"
   ]
  },
  {
   "cell_type": "code",
   "execution_count": 34,
   "id": "48fc64ce",
   "metadata": {},
   "outputs": [
    {
     "data": {
      "text/plain": [
       "1.0"
      ]
     },
     "execution_count": 34,
     "metadata": {},
     "output_type": "execute_result"
    }
   ],
   "source": [
    "# Normalize the pixel values\n",
    "train_set['images'] = train_set['images'] / 255\n",
    "test_set['images'] = test_set['images'] / 255"
   ]
  },
  {
   "cell_type": "code",
   "execution_count": 38,
   "id": "3f7770b9",
   "metadata": {},
   "outputs": [],
   "source": [
    "# Apply one-hot encoding to the labels\n",
    "train_set['labels'] = tf.keras.utils.to_categorical(train_set['labels'], num_classes=10)\n",
    "test_set['labels'] = tf.keras.utils.to_categorical(test_set['labels'], num_classes=10)"
   ]
  },
  {
   "cell_type": "code",
   "execution_count": 40,
   "id": "561e738f",
   "metadata": {
    "scrolled": true
   },
   "outputs": [
    {
     "name": "stdout",
     "output_type": "stream",
     "text": [
      "Shape of training set labels:  (60000, 10)\n",
      "Shape of testing set labels:  (10000, 10)\n"
     ]
    }
   ],
   "source": [
    "print('Shape of training set labels: ', train_set['labels'].shape)\n",
    "print('Shape of testing set labels: ', test_set['labels'].shape)"
   ]
  },
  {
   "cell_type": "markdown",
   "id": "aac6fa3b",
   "metadata": {},
   "source": [
    "### d. Visualiztion"
   ]
  },
  {
   "cell_type": "code",
   "execution_count": 42,
   "id": "4ffda736",
   "metadata": {},
   "outputs": [
    {
     "name": "stdout",
     "output_type": "stream",
     "text": [
      "5 5 3\n"
     ]
    }
   ],
   "source": [
    "def visualizeImage(img_vec, dim, index, label):\n",
    "    plt.subplot(dim[0], dim[1], index)\n",
    "    plt.xticks([])\n",
    "    plt.yticks([])\n",
    "    plt.grit(False)\n",
    "    plt.imshow(img_vec, cmap=plt.cm.binary)\n",
    "    plt.xlabel(label)"
   ]
  },
  {
   "cell_type": "code",
   "execution_count": null,
   "id": "fd7ba085",
   "metadata": {},
   "outputs": [],
   "source": []
  }
 ],
 "metadata": {
  "kernelspec": {
   "display_name": "tf",
   "language": "python",
   "name": "tf"
  },
  "language_info": {
   "codemirror_mode": {
    "name": "ipython",
    "version": 3
   },
   "file_extension": ".py",
   "mimetype": "text/x-python",
   "name": "python",
   "nbconvert_exporter": "python",
   "pygments_lexer": "ipython3",
   "version": "3.8.12"
  }
 },
 "nbformat": 4,
 "nbformat_minor": 5
}
