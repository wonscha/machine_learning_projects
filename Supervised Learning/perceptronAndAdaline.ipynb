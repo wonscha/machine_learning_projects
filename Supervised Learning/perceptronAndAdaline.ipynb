{
 "cells": [
  {
   "cell_type": "markdown",
   "metadata": {},
   "source": [
    "<h1 style=\"color: blue\"> Assignment1 </h1>\n",
    "<p>Wonsuk Cha 301155132</p>"
   ]
  },
  {
   "cell_type": "markdown",
   "metadata": {},
   "source": [
    "# Exercise1"
   ]
  },
  {
   "cell_type": "markdown",
   "metadata": {},
   "source": [
    "### Prepare 21 character vectors"
   ]
  },
  {
   "cell_type": "code",
   "execution_count": 249,
   "metadata": {},
   "outputs": [
    {
     "name": "stdout",
     "output_type": "stream",
     "text": [
      "Shape of X:  (21, 63)\n"
     ]
    }
   ],
   "source": [
    "import numpy as np\n",
    "\n",
    "font1_a_pre = [[3, 4],[4],[4],[3,5],[3,5],[2,3,4,5,6],[2,6],[2,6],[1,2,3,5,6,7]]\n",
    "font1_b_pre = [[1,2,3,4,5,6],[2,7],[2,7],[2,7],[2,3,4,5,6],[2,7],[2,7],[2,7],[1,2,3,4,5,6]]\n",
    "font1_c_pre = [[3,4,5,6,7],[2,7],[1],[1],[1],[1],[1],[2,7],[3,4,5,6]]\n",
    "font1_d_pre = [[1,2,3,4,5],[2,6],[2,7],[2,7],[2,7],[2,7],[2,7],[2,6],[1,2,3,4,5]]\n",
    "font1_e_pre = [[1,2,3,4,5,6,7],[2,7],[2],[2,4],[2,3,4],[2,4],[2],[2,7],[1,2,3,4,5,6,7]]\n",
    "font1_j_pre = [[4,5,6,7],[6],[6],[6],[6],[6],[2,6],[2,6],[3,4,5]]\n",
    "font1_k_pre = [[1,2,3,6,7],[2,5],[2,4],[2,3],[2,3],[2,4],[2,5],[2,6],[1,2,3,6,7]]\n",
    "\n",
    "font2_a_pre = [[4],[4],[4],[3,5],[3,5],[2,6],[2,3,4,5,6],[2,6],[2,6]]\n",
    "font2_b_pre = [[1,2,3,4,5,6],[1,7],[1,7],[1,7],[1,2,3,4,5,6],[1,7],[1,7],[1,7],[1,2,3,4,5,6]]\n",
    "font2_c_pre = [[3,4,5],[2,6],[1,7],[1],[1],[1],[1,7],[2,6],[3,4,5]]\n",
    "font2_d_pre = [[1,2,3,4,5],[1,6],[1,7],[1,7],[1,7],[1,7],[1,7],[1,6],[1,2,3,4,5]]\n",
    "font2_e_pre = [[1,2,3,4,5,6,7],[1],[1],[1],[1,2,3,4,5],[1],[1],[1],[1,2,3,4,5,6,7]]\n",
    "font2_j_pre = [[6],[6],[6],[6],[6],[6],[2,6],[2,6],[3,4,5]]\n",
    "font2_k_pre = [[1,6],[1,5],[1,4],[1,3],[1,2],[1,3],[1,4],[1,5],[1,6]]\n",
    "\n",
    "font3_a_pre = [[4],[4],[3,5],[3,5],[2,6],[2,3,4,5,6],[1,7],[1,7],[1,2,6,7]]\n",
    "font3_b_pre = [[1,2,3,4,5,6],[2,7],[2,7],[2,3,4,5,6],[2,7],[2,7],[2,7],[2,7],[1,2,3,4,5,6]]\n",
    "font3_c_pre = [[3,4,5,7],[2,6,7],[1,7],[1],[1],[1],[1,7],[2,6],[3,4,5]]\n",
    "font3_d_pre = [[1,2,3,4,5],[2,6],[2,7],[2,7],[2,7],[2,7],[2,7],[2,6],[1,2,3,4,5]]\n",
    "font3_e_pre = [[1,2,3,4,5,6,7],[2,7],[2,5],[2,3,4,5],[2,5],[2],[2],[2,7],[1,2,3,4,5,6,7]]\n",
    "font3_j_pre = [[5,6,7],[6],[6],[6],[6],[6],[6],[2,6],[3,4,5]]\n",
    "font3_k_pre = [[1,2,3,6,7],[2,6],[2,5],[2,4],[2,3],[2,4],[2,5],[2,6],[1,2,3,6,7]]\n",
    "\n",
    "fonts_pre = [font1_a_pre, font1_b_pre, font1_c_pre, font1_d_pre, \n",
    "             font1_e_pre, font1_j_pre, font1_k_pre, \n",
    "             font2_a_pre, font2_b_pre, font2_c_pre, font2_d_pre, \n",
    "             font2_e_pre, font2_j_pre, font2_k_pre,\n",
    "             font3_a_pre, font3_b_pre, font3_c_pre, font3_d_pre, \n",
    "             font3_e_pre, font3_j_pre, font3_k_pre]\n",
    "y_true = [-1, -1, -1, 1, -1, -1, -1, \n",
    "            -1, -1, -1, 1, -1, -1, -1,  \n",
    "            -1, -1, -1, 1, -1, -1, -1]\n",
    "\n",
    "def create_character(input):\n",
    "    output = []\n",
    "    for idx, line in enumerate(input):\n",
    "        for i in range(1, 8):\n",
    "            output.append(1 if i in line else -1)\n",
    "    return np.array(output)\n",
    "\n",
    "def create_character_array(list_font_pre):\n",
    "    list_font = []\n",
    "    for font_pre in list_font_pre:\n",
    "        list_font.append(create_character(font_pre))\n",
    "    return np.array(list_font)\n",
    "\n",
    "X = create_character_array(fonts_pre)\n",
    "\n",
    "print('Shape of X: ', X.shape)"
   ]
  },
  {
   "cell_type": "markdown",
   "metadata": {},
   "source": [
    "### Create dataset with noises"
   ]
  },
  {
   "cell_type": "code",
   "execution_count": 250,
   "metadata": {},
   "outputs": [
    {
     "name": "stdout",
     "output_type": "stream",
     "text": [
      "Differences in noise 5:  5\n",
      "Differences in noise 10:  10\n",
      "Differences in noise 15:  15\n",
      "Differences in noise 20:  20\n"
     ]
    }
   ],
   "source": [
    "import random\n",
    "\n",
    "def noise_generator(character_array, num_of_noise_pixels):\n",
    "    char_noise = np.copy(character_array)\n",
    "    for line in char_noise:\n",
    "        select_pixels = random.sample(range(line.size), num_of_noise_pixels)\n",
    "        for index in select_pixels:\n",
    "            line[index] = 1 if line[index] == -1 else -1\n",
    "    return char_noise\n",
    "    \n",
    "X_noise_5 = noise_generator(X, 5)\n",
    "X_noise_10 = noise_generator(X, 10)\n",
    "X_noise_15 = noise_generator(X, 15)\n",
    "X_noise_20 = noise_generator(X, 20)\n",
    "\n",
    "print('Differences in noise 5: ', np.where((X[0]-X_noise_5[0]) != 0, 1, 0).sum())\n",
    "print('Differences in noise 10: ', np.where((X[0]-X_noise_10[0]) != 0, 1, 0).sum())\n",
    "print('Differences in noise 15: ', np.where((X[0]-X_noise_15[0]) != 0, 1, 0).sum())\n",
    "print('Differences in noise 20: ', np.where((X[0]-X_noise_20[0]) != 0, 1, 0).sum())"
   ]
  },
  {
   "cell_type": "markdown",
   "metadata": {},
   "source": [
    "### Display font images and check"
   ]
  },
  {
   "cell_type": "code",
   "execution_count": 251,
   "metadata": {
    "scrolled": false
   },
   "outputs": [
    {
     "data": {
      "image/png": "[encoded data removed]",
      "text/plain": [
       "<Figure size 432x288 with 21 Axes>"
      ]
     },
     "metadata": {
      "needs_background": "light"
     },
     "output_type": "display_data"
    }
   ],
   "source": [
    "import matplotlib as mlp\n",
    "import matplotlib.pyplot as plt\n",
    "%matplotlib inline\n",
    "\n",
    "fig, axes = plt.subplots(3, 7)\n",
    "\n",
    "def display_font(input, idx):\n",
    "    font_image = input.reshape(9, 7)\n",
    "    row = idx // 7\n",
    "    col = idx % 7\n",
    "    axes[row, col].imshow(font_image, cmap=\"binary\")\n",
    "    axes[row, col].axis(\"off\")\n",
    "\n",
    "for idx, font in enumerate(X):\n",
    "    display_font(font, idx)"
   ]
  },
  {
   "cell_type": "markdown",
   "metadata": {},
   "source": [
    "### Create Perceptron class"
   ]
  },
  {
   "cell_type": "code",
   "execution_count": 252,
   "metadata": {},
   "outputs": [],
   "source": [
    "class Perceptron(object):\n",
    "\n",
    "    def __init__(self, no_of_inputs, epochs=100, learning_rate=0.01):\n",
    "        self.epochs = epochs\n",
    "        self.learning_rate = learning_rate\n",
    "        self.weights = np.zeros(no_of_inputs + 1)\n",
    "           \n",
    "    def predict(self, inputs):\n",
    "        summation = np.dot(inputs, self.weights[1:]) + self.weights[0]\n",
    "        activation = 1 if summation > 0 else -1\n",
    "        return activation\n",
    "\n",
    "    def train(self, training_inputs, labels):\n",
    "        for _ in range(self.epochs):\n",
    "            for inputs, label in zip(training_inputs, labels):\n",
    "                prediction = self.predict(inputs)\n",
    "                self.weights[1:] += self.learning_rate * (label - prediction) * inputs\n",
    "                self.weights[0] += self.learning_rate * (label - prediction)"
   ]
  },
  {
   "cell_type": "markdown",
   "metadata": {},
   "source": [
    "### Train perceptron instance and predict with font vectors"
   ]
  },
  {
   "cell_type": "code",
   "execution_count": 253,
   "metadata": {
    "scrolled": true
   },
   "outputs": [
    {
     "data": {
      "text/plain": [
       "1.0"
      ]
     },
     "execution_count": 253,
     "metadata": {},
     "output_type": "execute_result"
    }
   ],
   "source": [
    "from sklearn.metrics import accuracy_score\n",
    "\n",
    "perceptron = Perceptron(63)\n",
    "\n",
    "perceptron.train(X, y_true)\n",
    "y_pred_perceptron = [perceptron.predict(X[idx]) for idx in range(X.shape[0])]\n",
    "\n",
    "accuracy_score(y_pred_perceptron, y_true)"
   ]
  },
  {
   "cell_type": "markdown",
   "metadata": {},
   "source": [
    "### Create Adeline Class"
   ]
  },
  {
   "cell_type": "code",
   "execution_count": 254,
   "metadata": {},
   "outputs": [],
   "source": [
    "class AdalineGD(object):\n",
    "\n",
    "    def __init__(self, eta=0.01, epochs=100):\n",
    "        self.eta = eta\n",
    "        self.epochs = epochs\n",
    "\n",
    "    def train(self, X, y):\n",
    "\n",
    "        self.w_ = np.zeros(1 + X.shape[1])\n",
    "        self.cost_ = []\n",
    "\n",
    "        for i in range(self.epochs):\n",
    "            output = self.net_input(X)\n",
    "            errors = (y - output)\n",
    "            self.w_[1:] += self.eta * X.T.dot(errors)\n",
    "            self.w_[0] += self.eta * errors.sum()\n",
    "            cost = (errors**2).sum() / 2.0\n",
    "            self.cost_.append(cost)\n",
    "        return self\n",
    "\n",
    "    def net_input(self, X):\n",
    "        return np.dot(X, self.w_[1:]) + self.w_[0]\n",
    "\n",
    "    def activation(self, X):\n",
    "        return self.net_input(X)\n",
    "\n",
    "    def predict(self, X):\n",
    "        return np.where(self.activation(X) >= 0.0, 1, -1)\n",
    "                "
   ]
  },
  {
   "cell_type": "markdown",
   "metadata": {},
   "source": [
    "### Create adeline instance, train with fonts and predict"
   ]
  },
  {
   "cell_type": "code",
   "execution_count": 255,
   "metadata": {},
   "outputs": [
    {
     "data": {
      "image/png": "[encoded data removed]",
      "text/plain": [
       "<Figure size 432x288 with 1 Axes>"
      ]
     },
     "metadata": {
      "needs_background": "light"
     },
     "output_type": "display_data"
    },
    {
     "data": {
      "image/png": "[encoded data removed]",
      "text/plain": [
       "<Figure size 432x288 with 1 Axes>"
      ]
     },
     "metadata": {
      "needs_background": "light"
     },
     "output_type": "display_data"
    }
   ],
   "source": [
    "ada = AdalineGD(epochs=10, eta=0.01).train(X, y_true)\n",
    "plt.plot(range(1, len(ada.cost_)+1), np.log10(ada.cost_), marker='o')\n",
    "plt.xlabel('Iterations')\n",
    "plt.ylabel('log(Sum-squared-error)')\n",
    "plt.title('Adaline - Learning rate 0.01')\n",
    "plt.show()\n",
    "\n",
    "\n",
    "ada = AdalineGD(epochs=10, eta=0.001).train(X, y_true)\n",
    "plt.plot(range(1, len(ada.cost_)+1), np.log10(ada.cost_), marker='o')\n",
    "plt.xlabel('Iterations')\n",
    "plt.ylabel('log(Sum-squared-error)')\n",
    "plt.title('Adaline - Learning rate 0.001')\n",
    "plt.show()"
   ]
  },
  {
   "cell_type": "markdown",
   "metadata": {},
   "source": [
    "### Adaline train and predict"
   ]
  },
  {
   "cell_type": "code",
   "execution_count": 256,
   "metadata": {
    "scrolled": true
   },
   "outputs": [
    {
     "data": {
      "text/plain": [
       "1.0"
      ]
     },
     "execution_count": 256,
     "metadata": {},
     "output_type": "execute_result"
    }
   ],
   "source": [
    "ada = AdalineGD(epochs=100, eta=0.001)\n",
    "ada.train(X, y_true)\n",
    "y_pred_ada = ada.predict(X)\n",
    "\n",
    "accuracy_score(y_pred_ada, y_true)"
   ]
  },
  {
   "cell_type": "markdown",
   "metadata": {},
   "source": [
    "### Comparison between Perceptron and Adaline with data with noise"
   ]
  },
  {
   "cell_type": "code",
   "execution_count": 257,
   "metadata": {
    "scrolled": false
   },
   "outputs": [
    {
     "name": "stdout",
     "output_type": "stream",
     "text": [
      "Perceptron Accuracy with 5px noises:  1.0\n",
      "Adaline Accuracy with 5px noises:     1.0 \n",
      "\n",
      "Perceptron Accuracy with 10px noises:  0.8571428571428571\n",
      "Adaline Accuracy with 10px noises:     0.9523809523809523 \n",
      "\n",
      "Perceptron Accuracy with 15px noises:  0.9523809523809523\n",
      "Adaline Accuracy with 15px noises:     0.9523809523809523 \n",
      "\n",
      "Perceptron Accuracy with 20px noises:  0.7619047619047619\n",
      "Adaline Accuracy with 20px noises:     0.8095238095238095 \n",
      "\n"
     ]
    }
   ],
   "source": [
    "# Accuracy with 5 pixels noises\n",
    "y_pred_perceptron_5 = [perceptron.predict(X_noise_5[idx]) for idx in range(X_noise_5.shape[0])]\n",
    "y_pred_ada_5 = ada.predict(X_noise_5)\n",
    "print('Perceptron Accuracy with 5px noises: ', accuracy_score(y_pred_perceptron_5, y_true))\n",
    "print('Adaline Accuracy with 5px noises:    ', accuracy_score(y_pred_ada_5, y_true), '\\n')\n",
    "\n",
    "# Accuracy with 10 pixels noises\n",
    "y_pred_perceptron_10 = [perceptron.predict(X_noise_10[idx]) for idx in range(X_noise_10.shape[0])]\n",
    "y_pred_ada_10 = ada.predict(X_noise_10)\n",
    "print('Perceptron Accuracy with 10px noises: ', accuracy_score(y_pred_perceptron_10, y_true))\n",
    "print('Adaline Accuracy with 10px noises:    ', accuracy_score(y_pred_ada_10, y_true), '\\n')\n",
    "\n",
    "# Accuracy with 15 pixels noises\n",
    "y_pred_perceptron_15 = [perceptron.predict(X_noise_15[idx]) for idx in range(X_noise_15.shape[0])]\n",
    "y_pred_ada_15 = ada.predict(X_noise_15)\n",
    "print('Perceptron Accuracy with 15px noises: ', accuracy_score(y_pred_perceptron_15, y_true))\n",
    "print('Adaline Accuracy with 15px noises:    ', accuracy_score(y_pred_ada_15, y_true), '\\n')\n",
    "\n",
    "# Accuracy with 20 pixels noises\n",
    "y_pred_perceptron_20 = [perceptron.predict(X_noise_20[idx]) for idx in range(X_noise_20.shape[0])]\n",
    "y_pred_ada_20 = ada.predict(X_noise_20)\n",
    "print('Perceptron Accuracy with 20px noises: ', accuracy_score(y_pred_perceptron_20, y_true))\n",
    "print('Adaline Accuracy with 20px noises:    ', accuracy_score(y_pred_ada_20, y_true), '\\n')"
   ]
  },
  {
   "cell_type": "markdown",
   "metadata": {},
   "source": [
    "# Exercise 2"
   ]
  },
  {
   "cell_type": "markdown",
   "metadata": {},
   "source": [
    "### Define Network Class"
   ]
  },
  {
   "cell_type": "code",
   "execution_count": 258,
   "metadata": {},
   "outputs": [],
   "source": [
    "import random\n",
    "import numpy as np\n",
    "\n",
    "def sigmoid(z):\n",
    "    \"\"\"The sigmoid function.\"\"\"\n",
    "    return 1.0/(1.0+np.exp(-z))\n",
    "\n",
    "def sigmoid_prime(z):\n",
    "    \"\"\"Derivative of the sigmoid function.\"\"\"\n",
    "    return sigmoid(z)*(1-sigmoid(z))\n",
    "\n",
    "class Network(object):\n",
    "\n",
    "    def __init__(self, sizes):\n",
    "        \"\"\"The list ``sizes`` contains the number of neurons in the\n",
    "        respective layers of the network.  For example, if the list\n",
    "        was [2, 3, 1] then it would be a three-layer network, with the\n",
    "        first layer containing 2 neurons, the second layer 3 neurons,\n",
    "        and the third layer 1 neuron.  The biases and weights for the\n",
    "        network are initialized randomly, using a Gaussian\n",
    "        distribution with mean 0, and variance 1.  Note that the first\n",
    "        layer is assumed to be an input layer, and by convention we\n",
    "        won't set any biases for those neurons, since biases are only\n",
    "        ever used in computing the outputs from later layers.\"\"\"\n",
    "        self.num_layers = len(sizes)\n",
    "        self.sizes = sizes\n",
    "        self.biases = [np.random.randn(y, 1) for y in sizes[1:]]\n",
    "        self.weights = [np.random.randn(y, x)\n",
    "                        for x, y in zip(sizes[:-1], sizes[1:])]\n",
    "\n",
    "    def feedforward(self, a):\n",
    "        \"\"\"Return the output of the network if ``a`` is input.\"\"\"\n",
    "        for b, w in zip(self.biases, self.weights):\n",
    "            a = sigmoid(np.dot(w, a)+b)\n",
    "        return a\n",
    "\n",
    "    def SGD(self, training_data, epochs, mini_batch_size, eta,\n",
    "            test_data=None):\n",
    "        \"\"\"Train the neural network using mini-batch stochastic\n",
    "        gradient descent.  The ``training_data`` is a list of tuples\n",
    "        ``(x, y)`` representing the training inputs and the desired\n",
    "        outputs.  The other non-optional parameters are\n",
    "        self-explanatory.  If ``test_data`` is provided then the\n",
    "        network will be evaluated against the test data after each\n",
    "        epoch, and partial progress printed out.  This is useful for\n",
    "        tracking progress, but slows things down substantially.\"\"\"\n",
    "\n",
    "        training_data = list(training_data)\n",
    "        n = len(training_data)\n",
    "\n",
    "        if test_data:\n",
    "            test_data = list(test_data)\n",
    "            n_test = len(test_data)\n",
    "\n",
    "        for j in range(epochs):\n",
    "            random.shuffle(training_data)\n",
    "            mini_batches = [\n",
    "                training_data[k:k+mini_batch_size]\n",
    "                for k in range(0, n, mini_batch_size)]\n",
    "            for mini_batch in mini_batches:\n",
    "                self.update_mini_batch(mini_batch, eta)\n",
    "            if test_data:\n",
    "                print(\"Epoch {} : {} / {}\".format(j,self.evaluate(test_data),n_test));\n",
    "            else:\n",
    "                print(\"Epoch {} complete\".format(j))\n",
    "\n",
    "    def update_mini_batch(self, mini_batch, eta):\n",
    "        \"\"\"Update the network's weights and biases by applying\n",
    "        gradient descent using backpropagation to a single mini batch.\n",
    "        The ``mini_batch`` is a list of tuples ``(x, y)``, and ``eta``\n",
    "        is the learning rate.\"\"\"\n",
    "        nabla_b = [np.zeros(b.shape) for b in self.biases]\n",
    "        nabla_w = [np.zeros(w.shape) for w in self.weights]\n",
    "        for x, y in mini_batch:\n",
    "            delta_nabla_b, delta_nabla_w = self.backprop(x, y)\n",
    "            nabla_b = [nb+dnb for nb, dnb in zip(nabla_b, delta_nabla_b)]\n",
    "            nabla_w = [nw+dnw for nw, dnw in zip(nabla_w, delta_nabla_w)]\n",
    "        self.weights = [w-(eta/len(mini_batch))*nw\n",
    "                        for w, nw in zip(self.weights, nabla_w)]\n",
    "        self.biases = [b-(eta/len(mini_batch))*nb\n",
    "                       for b, nb in zip(self.biases, nabla_b)]\n",
    "\n",
    "    def backprop(self, x, y):\n",
    "        \"\"\"Return a tuple ``(nabla_b, nabla_w)`` representing the\n",
    "        gradient for the cost function C_x.  ``nabla_b`` and\n",
    "        ``nabla_w`` are layer-by-layer lists of numpy arrays, similar\n",
    "        to ``self.biases`` and ``self.weights``.\"\"\"\n",
    "        nabla_b = [np.zeros(b.shape) for b in self.biases]\n",
    "        nabla_w = [np.zeros(w.shape) for w in self.weights]\n",
    "        # feedforward\n",
    "        activation = x\n",
    "        activations = [x] # list to store all the activations, layer by layer\n",
    "        zs = [] # list to store all the z vectors, layer by layer\n",
    "        for b, w in zip(self.biases, self.weights):\n",
    "            z = np.dot(w, activation)+b\n",
    "            zs.append(z)\n",
    "            activation = sigmoid(z)\n",
    "            activations.append(activation)\n",
    "        # backward pass\n",
    "        delta = self.cost_derivative(activations[-1], y) * \\\n",
    "            sigmoid_prime(zs[-1])\n",
    "        nabla_b[-1] = delta\n",
    "        nabla_w[-1] = np.dot(delta, activations[-2].transpose())\n",
    "        # Note that the variable l in the loop below is used a little\n",
    "        # differently to the notation in Chapter 2 of the book.  Here,\n",
    "        # l = 1 means the last layer of neurons, l = 2 is the\n",
    "        # second-last layer, and so on.  It's a renumbering of the\n",
    "        # scheme in the book, used here to take advantage of the fact\n",
    "        # that Python can use negative indices in lists.\n",
    "        for l in range(2, self.num_layers):\n",
    "            z = zs[-l]\n",
    "            sp = sigmoid_prime(z)\n",
    "            delta = np.dot(self.weights[-l+1].transpose(), delta) * sp\n",
    "            nabla_b[-l] = delta\n",
    "            nabla_w[-l] = np.dot(delta, activations[-l-1].transpose())\n",
    "        return (nabla_b, nabla_w)\n",
    "\n",
    "    def evaluate(self, test_data):\n",
    "        \"\"\"Return the number of test inputs for which the neural\n",
    "        network outputs the correct result. Note that the neural\n",
    "        network's output is assumed to be the index of whichever\n",
    "        neuron in the final layer has the highest activation.\"\"\"\n",
    "        # test_results = [(np.argmax(self.feedforward(x)), y)\n",
    "        #                 for (x, y) in test_data]\n",
    "        test_results = [(self.feedforward(x), y)\n",
    "                for (x, y) in test_data]\n",
    "        # return sum(int(x == y) for (x, y) in test_results)\n",
    "        return sum(((x - y)**2).sum() for (x, y) in test_results)\n",
    "\n",
    "    def cost_derivative(self, output_activations, y):\n",
    "        \"\"\"Return the vector of partial derivatives \\partial C_x /\n",
    "        \\partial a for the output activations.\"\"\"\n",
    "        return (output_activations-y)\n",
    "    \n",
    "    def predict(self, X): \n",
    "        test_results = [self.feedforward(x) for x in X]\n",
    "        return [np.rint(arr) for arr in test_results]"
   ]
  },
  {
   "cell_type": "markdown",
   "metadata": {},
   "source": [
    "### Load dataset"
   ]
  },
  {
   "cell_type": "code",
   "execution_count": 259,
   "metadata": {
    "scrolled": false
   },
   "outputs": [
    {
     "name": "stdout",
     "output_type": "stream",
     "text": [
      "Features: \n",
      "      AGE  SEX STEROID  ANTIVIRALS FATIGUE MALAISE ANOREXIA LIVER BIG  \\\n",
      "0     30    2       1           2       2       2        2         1   \n",
      "1     50    1       1           2       1       2        2         1   \n",
      "2     78    1       2           2       1       2        2         2   \n",
      "3     31    1       ?           1       2       2        2         2   \n",
      "4     34    1       2           2       2       2        2         2   \n",
      "..   ...  ...     ...         ...     ...     ...      ...       ...   \n",
      "150   46    1       2           2       1       1        1         2   \n",
      "151   44    1       2           2       1       2        2         2   \n",
      "152   61    1       1           2       1       1        2         1   \n",
      "153   53    2       1           2       1       2        2         2   \n",
      "154   43    1       2           2       1       2        2         2   \n",
      "\n",
      "    LIVER FIRM SPLEEN PALPABLE SPIDERS ASCITES VARICES BILIRUBIN  \\\n",
      "0            2               2       2       2       2      1.00   \n",
      "1            2               2       2       2       2      0.90   \n",
      "2            2               2       2       2       2      0.70   \n",
      "3            2               2       2       2       2      0.70   \n",
      "4            2               2       2       2       2      1.00   \n",
      "..         ...             ...     ...     ...     ...       ...   \n",
      "150          2               2       1       1       1      7.60   \n",
      "151          1               2       2       2       2      0.90   \n",
      "152          1               2       1       2       2      0.80   \n",
      "153          2               1       1       2       1      1.50   \n",
      "154          2               1       1       1       2      1.20   \n",
      "\n",
      "    ALK PHOSPHATE SGOT ALBUMIN PROTIME  HISTOLOGY  \n",
      "0              85   18     4.0       ?          1  \n",
      "1             135   42     3.5       ?          1  \n",
      "2              96   32     4.0       ?          1  \n",
      "3              46   52     4.0      80          1  \n",
      "4               ?  200     4.0       ?          1  \n",
      "..            ...  ...     ...     ...        ...  \n",
      "150             ?  242     3.3      50          2  \n",
      "151           126  142     4.3       ?          2  \n",
      "152            75   20     4.1       ?          2  \n",
      "153            81   19     4.1      48          2  \n",
      "154           100   19     3.1      42          2  \n",
      "\n",
      "[155 rows x 19 columns] \n",
      "\n",
      "Targets: \n",
      "      Die_Live1  Die_Live2\n",
      "0            1          0\n",
      "1            1          0\n",
      "2            1          0\n",
      "3            1          0\n",
      "4            1          0\n",
      "..         ...        ...\n",
      "150          0          1\n",
      "151          1          0\n",
      "152          1          0\n",
      "153          1          0\n",
      "154          0          1\n",
      "\n",
      "[155 rows x 2 columns]\n"
     ]
    }
   ],
   "source": [
    "import pandas as pd\n",
    "import numpy as np\n",
    "\n",
    "data = pd.read_csv('/Users/wonsukcha/wchaCentennial/OneDrive - Centennial College/3_2021 Fall/COMM258_NN/3_Labs/Week2/hepatitis.data', sep=\",\", header=None)\n",
    "data = data.set_axis(['Class', 'AGE', 'SEX', 'STEROID', 'ANTIVIRALS', 'FATIGUE', 'MALAISE', 'ANOREXIA', 'LIVER BIG', 'LIVER FIRM', 'SPLEEN PALPABLE', 'SPIDERS',\n",
    "'ASCITES', 'VARICES', 'BILIRUBIN', 'ALK PHOSPHATE', 'SGOT', 'ALBUMIN', 'PROTIME', 'HISTOLOGY'], axis=1, inplace=False)\n",
    "X = data.drop('Class', axis=1)\n",
    "y = pd.DataFrame({\n",
    "     \"Die_Live1\": data['Class'] - 1,\n",
    "     \"Die_Live2\": np.where(data['Class'] == 2, 0, 1)\n",
    "     })\n",
    "\n",
    "print('Features: \\n', X, '\\n')\n",
    "print('Targets: \\n', y)"
   ]
  },
  {
   "cell_type": "markdown",
   "metadata": {},
   "source": [
    "### Preprocessing"
   ]
  },
  {
   "cell_type": "code",
   "execution_count": 260,
   "metadata": {
    "scrolled": true
   },
   "outputs": [
    {
     "name": "stdout",
     "output_type": "stream",
     "text": [
      "[[-0.89419175 -0.36093761 -0.43941439 ...  2.          2.\n",
      "   1.        ]\n",
      " [ 0.70257923 -0.44536414  0.64153471 ...  2.          2.\n",
      "   1.        ]\n",
      " [ 2.93805862 -0.61421722 -0.20160559 ...  2.          2.\n",
      "   1.        ]\n",
      " ...\n",
      " [ 1.58080328 -0.52979068 -0.65560421 ...  2.          2.\n",
      "   2.        ]\n",
      " [ 0.94209488  0.06119507 -0.52589031 ...  2.          1.\n",
      "   2.        ]\n",
      " [ 0.14370939 -0.19208454 -0.11512966 ...  1.          2.\n",
      "   2.        ]]\n"
     ]
    }
   ],
   "source": [
    "from sklearn.impute import SimpleImputer\n",
    "from sklearn.pipeline import Pipeline\n",
    "from sklearn.compose import ColumnTransformer\n",
    "from sklearn.preprocessing import StandardScaler\n",
    "\n",
    "num_attr = ['AGE', 'BILIRUBIN', 'ALK PHOSPHATE', 'SGOT', 'ALBUMIN', 'PROTIME']\n",
    "cat_attr = [column for column in X.columns if column not in num_attr]\n",
    "\n",
    "num_pipeline = Pipeline([\n",
    "    ('mean_imputer', SimpleImputer(strategy='mean')),\n",
    "    ('std_scaler', StandardScaler())\n",
    "])\n",
    "cat_pipeline = Pipeline([\n",
    "    ('freq_imputer', SimpleImputer(strategy=\"most_frequent\"))\n",
    "])\n",
    "\n",
    "full_pipeline = ColumnTransformer([\n",
    "    ('num', num_pipeline, num_attr),\n",
    "    ('cat', cat_pipeline, cat_attr)\n",
    "])\n",
    "\n",
    "X = X.replace('?', np.nan)\n",
    "X_transformed = full_pipeline.fit_transform(X)\n",
    "X_transformed = X_transformed.astype(np.float)\n",
    "\n",
    "print(X_transformed)"
   ]
  },
  {
   "cell_type": "markdown",
   "metadata": {},
   "source": [
    "### Data Wrapping"
   ]
  },
  {
   "cell_type": "code",
   "execution_count": 261,
   "metadata": {},
   "outputs": [],
   "source": [
    "from sklearn.model_selection import train_test_split\n",
    "X_train, X_test, y_train, y_test = train_test_split(X_transformed, y, test_size = .20, random_state = 40)\n",
    "\n",
    "training_inputs = [np.reshape(x, (19, 1)) for x in X_train]\n",
    "training_results = [np.reshape(y, (2, 1)) for y in np.array(y_train)]\n",
    "training_data = zip(training_inputs, training_results)\n",
    "\n",
    "test_inputs = [np.reshape(x, (19, 1)) for x in X_test]\n",
    "test_results = [np.reshape(y, (2, 1)) for y in np.array(y_test)]\n",
    "test_data = zip(test_inputs, test_results)"
   ]
  },
  {
   "cell_type": "markdown",
   "metadata": {},
   "source": [
    "### Train and predict"
   ]
  },
  {
   "cell_type": "code",
   "execution_count": 262,
   "metadata": {},
   "outputs": [
    {
     "name": "stdout",
     "output_type": "stream",
     "text": [
      "Epoch 0 : 11.07577674606389 / 31\n",
      "Epoch 1 : 10.58475965957961 / 31\n",
      "Epoch 2 : 10.405925779763836 / 31\n",
      "Epoch 3 : 10.227969446820344 / 31\n",
      "Epoch 4 : 10.036841228305367 / 31\n",
      "Epoch 5 : 9.800261434967977 / 31\n",
      "Epoch 6 : 10.036774715825306 / 31\n",
      "Epoch 7 : 9.549486233835768 / 31\n",
      "Epoch 8 : 8.901513696475435 / 31\n",
      "Epoch 9 : 8.779167624626375 / 31\n",
      "Epoch 10 : 8.77317720509985 / 31\n",
      "Epoch 11 : 8.763570621306604 / 31\n",
      "Epoch 12 : 9.186400778682543 / 31\n",
      "Epoch 13 : 8.448822855822538 / 31\n",
      "Epoch 14 : 8.589586893322718 / 31\n",
      "Epoch 15 : 8.127224040380431 / 31\n",
      "Epoch 16 : 7.983142922640078 / 31\n",
      "Epoch 17 : 8.074199928922683 / 31\n",
      "Epoch 18 : 7.845485444841526 / 31\n",
      "Epoch 19 : 7.814071550405944 / 31\n",
      "Epoch 20 : 7.674831130607672 / 31\n",
      "Epoch 21 : 8.168042331820601 / 31\n",
      "Epoch 22 : 7.768965117013113 / 31\n",
      "Epoch 23 : 7.315857190574966 / 31\n",
      "Epoch 24 : 7.307029895174651 / 31\n",
      "Epoch 25 : 8.725745051962992 / 31\n",
      "Epoch 26 : 7.051865806369663 / 31\n",
      "Epoch 27 : 6.985608100275644 / 31\n",
      "Epoch 28 : 6.916481163675513 / 31\n",
      "Epoch 29 : 6.7395448988680995 / 31\n",
      "Epoch 30 : 7.301302289382605 / 31\n",
      "Epoch 31 : 6.6740317069850095 / 31\n",
      "Epoch 32 : 6.804666477837573 / 31\n",
      "Epoch 33 : 7.151840570039109 / 31\n",
      "Epoch 34 : 6.766718476370486 / 31\n",
      "Epoch 35 : 7.657448922893726 / 31\n",
      "Epoch 36 : 7.4153836554814765 / 31\n",
      "Epoch 37 : 6.936167887833806 / 31\n",
      "Epoch 38 : 7.5863269647493565 / 31\n",
      "Epoch 39 : 6.434069232003185 / 31\n",
      "Epoch 40 : 6.921466708366547 / 31\n",
      "Epoch 41 : 6.471382008031296 / 31\n",
      "Epoch 42 : 6.4674914072090255 / 31\n",
      "Epoch 43 : 10.012767600644471 / 31\n",
      "Epoch 44 : 6.279075916103771 / 31\n",
      "Epoch 45 : 7.496751221284686 / 31\n",
      "Epoch 46 : 6.674649191225823 / 31\n",
      "Epoch 47 : 7.056775586094304 / 31\n",
      "Epoch 48 : 7.091785690936476 / 31\n",
      "Epoch 49 : 7.846642275792544 / 31\n",
      "Epoch 50 : 6.962962646529191 / 31\n",
      "Epoch 51 : 7.709612511383379 / 31\n",
      "Epoch 52 : 6.786341711285608 / 31\n",
      "Epoch 53 : 6.880984256671626 / 31\n",
      "Epoch 54 : 6.69810425065637 / 31\n",
      "Epoch 55 : 7.336041730140273 / 31\n",
      "Epoch 56 : 8.791393945874507 / 31\n",
      "Epoch 57 : 6.804504271446304 / 31\n",
      "Epoch 58 : 7.031874317476117 / 31\n",
      "Epoch 59 : 6.966881444763187 / 31\n",
      "Epoch 60 : 7.825815911872037 / 31\n",
      "Epoch 61 : 6.94805097942497 / 31\n",
      "Epoch 62 : 7.066575788864013 / 31\n",
      "Epoch 63 : 7.2191792703061655 / 31\n",
      "Epoch 64 : 7.173446124807848 / 31\n",
      "Epoch 65 : 7.5851453710983225 / 31\n",
      "Epoch 66 : 10.995228051760757 / 31\n",
      "Epoch 67 : 7.538192048246098 / 31\n",
      "Epoch 68 : 7.16899173691306 / 31\n",
      "Epoch 69 : 7.317232780416641 / 31\n",
      "Epoch 70 : 8.374233127534122 / 31\n",
      "Epoch 71 : 6.947797369472219 / 31\n",
      "Epoch 72 : 7.063358483337882 / 31\n",
      "Epoch 73 : 6.776861299509818 / 31\n",
      "Epoch 74 : 7.321189115148014 / 31\n",
      "Epoch 75 : 8.218305114600266 / 31\n",
      "Epoch 76 : 9.113788192345904 / 31\n",
      "Epoch 77 : 7.288933144370228 / 31\n",
      "Epoch 78 : 10.219287248405328 / 31\n",
      "Epoch 79 : 7.253338456733773 / 31\n",
      "Epoch 80 : 7.079144617432312 / 31\n",
      "Epoch 81 : 9.129276295842432 / 31\n",
      "Epoch 82 : 15.461166889188915 / 31\n",
      "Epoch 83 : 7.9147760121245065 / 31\n",
      "Epoch 84 : 6.604751432321343 / 31\n",
      "Epoch 85 : 7.862358755431906 / 31\n",
      "Epoch 86 : 6.9580476950685455 / 31\n",
      "Epoch 87 : 9.925704441569488 / 31\n",
      "Epoch 88 : 7.249962428917618 / 31\n",
      "Epoch 89 : 7.627692263403717 / 31\n",
      "Epoch 90 : 9.972954168290057 / 31\n",
      "Epoch 91 : 7.260362285794241 / 31\n",
      "Epoch 92 : 7.120038919524949 / 31\n",
      "Epoch 93 : 7.028884369830556 / 31\n",
      "Epoch 94 : 7.546959843446041 / 31\n",
      "Epoch 95 : 7.461305906219192 / 31\n",
      "Epoch 96 : 7.55018173708579 / 31\n",
      "Epoch 97 : 7.797681825278757 / 31\n",
      "Epoch 98 : 7.580955156273263 / 31\n",
      "Epoch 99 : 7.046817599594276 / 31\n"
     ]
    }
   ],
   "source": [
    "net = Network([19, 30, 15, 2])\n",
    "net.SGD(training_data, 100, 100, 3, test_data=test_data)\n",
    "\n",
    "y_pred = net.predict(test_inputs)"
   ]
  },
  {
   "cell_type": "markdown",
   "metadata": {},
   "source": [
    "### Measure accuracy"
   ]
  },
  {
   "cell_type": "code",
   "execution_count": 263,
   "metadata": {},
   "outputs": [
    {
     "name": "stdout",
     "output_type": "stream",
     "text": [
      "0.8064516129032258\n"
     ]
    }
   ],
   "source": [
    "def measure_accuracy(trues, predictions):\n",
    "    num_correct = 0\n",
    "    for (true_val, prediction) in zip(trues, predictions):\n",
    "        if np.array_equal(true_val, prediction):\n",
    "            num_correct += 1\n",
    "    return num_correct / len(trues)\n",
    "\n",
    "print(measure_accuracy(test_results, y_pred))"
   ]
  }
 ],
 "metadata": {
  "kernelspec": {
   "display_name": "Python 3",
   "language": "python",
   "name": "python3"
  },
  "language_info": {
   "codemirror_mode": {
    "name": "ipython",
    "version": 3
   },
   "file_extension": ".py",
   "mimetype": "text/x-python",
   "name": "python",
   "nbconvert_exporter": "python",
   "pygments_lexer": "ipython3",
   "version": "3.8.5"
  }
 },
 "nbformat": 4,
 "nbformat_minor": 4
}
