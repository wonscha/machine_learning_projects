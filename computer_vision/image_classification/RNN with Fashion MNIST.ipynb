{
 "cells": [
  {
   "cell_type": "markdown",
   "id": "500369dd",
   "metadata": {},
   "source": [
    "### Import necessary libraries"
   ]
  },
  {
   "cell_type": "code",
   "execution_count": 1,
   "id": "a5b2d37d",
   "metadata": {},
   "outputs": [],
   "source": [
    "import tensorflow as tf\n",
    "\n",
    "import numpy as np\n",
    "import matplotlib.pyplot as plt\n",
    "import sklearn\n",
    "import pandas as pd\n",
    "\n",
    "from tensorflow.keras.utils import plot_model\n",
    "from sklearn.metrics import confusion_matrix\n",
    "import seaborn as sns"
   ]
  },
  {
   "cell_type": "markdown",
   "id": "eb7e6cb9",
   "metadata": {},
   "source": [
    "### Load the data"
   ]
  },
  {
   "cell_type": "code",
   "execution_count": 2,
   "id": "9502dab0",
   "metadata": {},
   "outputs": [],
   "source": [
    "fashion_mnist = tf.keras.datasets.fashion_mnist\n",
    "(train_images, train_labels), (test_images, test_labels) = fashion_mnist.load_data()"
   ]
  },
  {
   "cell_type": "code",
   "execution_count": 3,
   "id": "bd143f23",
   "metadata": {},
   "outputs": [],
   "source": [
    "train_set = {\n",
    "    'images': train_images,\n",
    "    'labels': train_labels\n",
    "}\n",
    "\n",
    "test_set = {\n",
    "    'images': test_images,\n",
    "    'labels': test_labels\n",
    "}"
   ]
  },
  {
   "cell_type": "code",
   "execution_count": 4,
   "id": "000d665e",
   "metadata": {},
   "outputs": [],
   "source": [
    "class_names = ['T-shirt/top', 'Trouser', 'Pullover', 'Dress', 'Coat',\n",
    "               'Sandal', 'Shirt', 'Sneaker', 'Bag', 'Ankle boot']"
   ]
  },
  {
   "cell_type": "markdown",
   "id": "75e21737",
   "metadata": {},
   "source": [
    "### Data Exploration"
   ]
  },
  {
   "cell_type": "code",
   "execution_count": 5,
   "id": "f6520d95",
   "metadata": {},
   "outputs": [
    {
     "name": "stdout",
     "output_type": "stream",
     "text": [
      "Size of the training set:  {60000}\n",
      "Size of the testing set:  {10000}\n",
      "Image resolution of images:  (28, 28)\n",
      "Largest pixel value in dataset:  255\n"
     ]
    }
   ],
   "source": [
    "print('Size of the training set: ', {len(train_set['images'])})\n",
    "print('Size of the testing set: ', {len(test_set['images'])})\n",
    "print('Image resolution of images: ', train_set['images'][0].shape)\n",
    "print('Largest pixel value in dataset: ', np.amax(train_set['images']))"
   ]
  },
  {
   "cell_type": "markdown",
   "id": "b12ad941",
   "metadata": {},
   "source": [
    "### Data Pre-processing"
   ]
  },
  {
   "cell_type": "code",
   "execution_count": 6,
   "id": "e2df9a2a",
   "metadata": {},
   "outputs": [],
   "source": [
    "# Normalize the pixel values\n",
    "train_set['images'] = train_set['images'] / 255\n",
    "test_set['images'] = test_set['images'] / 255"
   ]
  },
  {
   "cell_type": "code",
   "execution_count": 7,
   "id": "2fac6068",
   "metadata": {},
   "outputs": [],
   "source": [
    "# Apply one-hot encoding to the labels\n",
    "train_set['labels'] = tf.keras.utils.to_categorical(train_set['labels'], num_classes=10)\n",
    "test_set['labels'] = tf.keras.utils.to_categorical(test_set['labels'], num_classes=10)"
   ]
  },
  {
   "cell_type": "code",
   "execution_count": 8,
   "id": "01699cf3",
   "metadata": {
    "scrolled": true
   },
   "outputs": [
    {
     "name": "stdout",
     "output_type": "stream",
     "text": [
      "Shape of training set labels:  (60000, 10)\n",
      "Shape of testing set labels:  (10000, 10)\n"
     ]
    }
   ],
   "source": [
    "print('Shape of training set labels: ', train_set['labels'].shape)\n",
    "print('Shape of testing set labels: ', test_set['labels'].shape)"
   ]
  },
  {
   "cell_type": "markdown",
   "id": "a0e9dd04",
   "metadata": {},
   "source": [
    "### Data Visualiztion"
   ]
  },
  {
   "cell_type": "code",
   "execution_count": 9,
   "id": "024cb318",
   "metadata": {},
   "outputs": [],
   "source": [
    "def visualize_img(ax, img, title): \n",
    "    ax.imshow(img, cmap=plt.cm.binary)\n",
    "    ax.set_xticks([])\n",
    "    ax.set_yticks([])\n",
    "    ax.set_xlabel(title)"
   ]
  },
  {
   "cell_type": "code",
   "execution_count": 10,
   "id": "16d1615b",
   "metadata": {},
   "outputs": [
    {
     "data": {
      "image/png": "[encoded data removed]",
      "text/plain": [
       "<Figure size 432x576 with 12 Axes>"
      ]
     },
     "metadata": {},
     "output_type": "display_data"
    },
    {
     "data": {
      "text/plain": [
       "<Figure size 432x288 with 0 Axes>"
      ]
     },
     "metadata": {},
     "output_type": "display_data"
    }
   ],
   "source": [
    "fig, axes = plt.subplots(nrows=4, ncols=3, figsize=(6, 8))\n",
    "\n",
    "for i in range(12):\n",
    "    img = train_set['images'][i]\n",
    "    title = class_names[np.argmax(train_set['labels'][i])]\n",
    "    visualize_img(axes[i // 3, i % 3], img, title)\n",
    "\n",
    "plt.show()\n",
    "plt.tight_layout()"
   ]
  },
  {
   "cell_type": "markdown",
   "id": "e36b0df9",
   "metadata": {},
   "source": [
    "### Training Data Preparation"
   ]
  },
  {
   "cell_type": "code",
   "execution_count": 11,
   "id": "487140bc",
   "metadata": {},
   "outputs": [],
   "source": [
    "from sklearn.model_selection import train_test_split\n",
    "\n",
    "X_train, X_val, y_train, y_val = train_test_split(train_set['images'], train_set['labels'], test_size=0.2, random_state=32)\n",
    "X_train = X_train[:,:,:]\n",
    "X_val = X_val[:,:,:]"
   ]
  },
  {
   "cell_type": "code",
   "execution_count": 12,
   "id": "4d59fcf5",
   "metadata": {},
   "outputs": [
    {
     "name": "stdout",
     "output_type": "stream",
     "text": [
      "(48000, 28, 28)\n",
      "(12000, 28, 28)\n",
      "(48000, 10)\n",
      "(12000, 10)\n"
     ]
    }
   ],
   "source": [
    "print(X_train.shape)\n",
    "print(X_val.shape)\n",
    "print(y_train.shape)\n",
    "print(y_val.shape)"
   ]
  },
  {
   "cell_type": "markdown",
   "id": "469b4827",
   "metadata": {},
   "source": [
    "### Build, Train, and Validate RNN Model"
   ]
  },
  {
   "cell_type": "code",
   "execution_count": 13,
   "id": "fe4bc40e",
   "metadata": {},
   "outputs": [
    {
     "name": "stdout",
     "output_type": "stream",
     "text": [
      "Metal device set to: Apple M1\n"
     ]
    },
    {
     "name": "stderr",
     "output_type": "stream",
     "text": [
      "2022-02-26 21:44:20.655624: I tensorflow/core/common_runtime/pluggable_device/pluggable_device_factory.cc:305] Could not identify NUMA node of platform GPU ID 0, defaulting to 0. Your kernel may not have been built with NUMA support.\n",
      "2022-02-26 21:44:20.655891: I tensorflow/core/common_runtime/pluggable_device/pluggable_device_factory.cc:271] Created TensorFlow device (/job:localhost/replica:0/task:0/device:GPU:0 with 0 MB memory) -> physical PluggableDevice (device: 0, name: METAL, pci bus id: <undefined>)\n"
     ]
    }
   ],
   "source": [
    "from tensorflow.keras import datasets, layers, models\n",
    "\n",
    "rnn_model = models.Sequential()\n",
    "rnn_model.add(layers.LSTM(128, input_shape=[None, 28]))\n",
    "rnn_model.add(layers.Dense(10, activation = 'softmax'))"
   ]
  },
  {
   "cell_type": "code",
   "execution_count": 14,
   "id": "6c0189c8",
   "metadata": {},
   "outputs": [],
   "source": [
    "rnn_model.compile(optimizer='adam', loss=tf.keras.losses.categorical_crossentropy, metrics=['accuracy'])"
   ]
  },
  {
   "cell_type": "code",
   "execution_count": 15,
   "id": "8f43c48c",
   "metadata": {},
   "outputs": [
    {
     "name": "stdout",
     "output_type": "stream",
     "text": [
      "Model: \"sequential\"\n",
      "_________________________________________________________________\n",
      "Layer (type)                 Output Shape              Param #   \n",
      "=================================================================\n",
      "lstm (LSTM)                  (None, 128)               80384     \n",
      "_________________________________________________________________\n",
      "dense (Dense)                (None, 10)                1290      \n",
      "=================================================================\n",
      "Total params: 81,674\n",
      "Trainable params: 81,674\n",
      "Non-trainable params: 0\n",
      "_________________________________________________________________\n"
     ]
    },
    {
     "data": {
      "image/png": "[encoded data removed]",
      "text/plain": [
       "<IPython.core.display.Image object>"
      ]
     },
     "execution_count": 15,
     "metadata": {},
     "output_type": "execute_result"
    }
   ],
   "source": [
    "rnn_model.summary()\n",
    "plot_model(rnn_model)"
   ]
  },
  {
   "cell_type": "code",
   "execution_count": 16,
   "id": "1393a950",
   "metadata": {
    "scrolled": false
   },
   "outputs": [
    {
     "name": "stderr",
     "output_type": "stream",
     "text": [
      "2022-02-26 21:44:24.801676: I tensorflow/compiler/mlir/mlir_graph_optimization_pass.cc:185] None of the MLIR Optimization Passes are enabled (registered 2)\n",
      "2022-02-26 21:44:24.806468: W tensorflow/core/platform/profile_utils/cpu_utils.cc:128] Failed to get CPU frequency: 0 Hz\n"
     ]
    },
    {
     "name": "stdout",
     "output_type": "stream",
     "text": [
      "Epoch 1/8\n"
     ]
    },
    {
     "name": "stderr",
     "output_type": "stream",
     "text": [
      "2022-02-26 21:44:25.227072: I tensorflow/core/grappler/optimizers/custom_graph_optimizer_registry.cc:112] Plugin optimizer for device_type GPU is enabled.\n",
      "2022-02-26 21:44:25.286791: I tensorflow/core/grappler/optimizers/custom_graph_optimizer_registry.cc:112] Plugin optimizer for device_type GPU is enabled.\n",
      "2022-02-26 21:44:26.007805: I tensorflow/core/grappler/optimizers/custom_graph_optimizer_registry.cc:112] Plugin optimizer for device_type GPU is enabled.\n"
     ]
    },
    {
     "name": "stdout",
     "output_type": "stream",
     "text": [
      "1497/1500 [============================>.] - ETA: 0s - loss: 0.6715 - accuracy: 0.7561"
     ]
    },
    {
     "name": "stderr",
     "output_type": "stream",
     "text": [
      "2022-02-26 21:44:47.862165: I tensorflow/core/grappler/optimizers/custom_graph_optimizer_registry.cc:112] Plugin optimizer for device_type GPU is enabled.\n",
      "2022-02-26 21:44:47.885353: I tensorflow/core/grappler/optimizers/custom_graph_optimizer_registry.cc:112] Plugin optimizer for device_type GPU is enabled.\n"
     ]
    },
    {
     "name": "stdout",
     "output_type": "stream",
     "text": [
      "1500/1500 [==============================] - 25s 15ms/step - loss: 0.6711 - accuracy: 0.7564 - val_loss: 0.4781 - val_accuracy: 0.8298\n",
      "Epoch 2/8\n",
      "1500/1500 [==============================] - 23s 15ms/step - loss: 0.4469 - accuracy: 0.8360 - val_loss: 0.4034 - val_accuracy: 0.8546\n",
      "Epoch 3/8\n",
      "1500/1500 [==============================] - 23s 15ms/step - loss: 0.3928 - accuracy: 0.8558 - val_loss: 0.3800 - val_accuracy: 0.8615\n",
      "Epoch 4/8\n",
      "1500/1500 [==============================] - 23s 15ms/step - loss: 0.3606 - accuracy: 0.8682 - val_loss: 0.3572 - val_accuracy: 0.8664\n",
      "Epoch 5/8\n",
      "1500/1500 [==============================] - 24s 16ms/step - loss: 0.3368 - accuracy: 0.8763 - val_loss: 0.3411 - val_accuracy: 0.8742\n",
      "Epoch 6/8\n",
      "1500/1500 [==============================] - 24s 16ms/step - loss: 0.3166 - accuracy: 0.8828 - val_loss: 0.3308 - val_accuracy: 0.8792\n",
      "Epoch 7/8\n",
      "1500/1500 [==============================] - 24s 16ms/step - loss: 0.2996 - accuracy: 0.8875 - val_loss: 0.3130 - val_accuracy: 0.8868\n",
      "Epoch 8/8\n",
      "1500/1500 [==============================] - 24s 16ms/step - loss: 0.2885 - accuracy: 0.8923 - val_loss: 0.3136 - val_accuracy: 0.8860\n"
     ]
    }
   ],
   "source": [
    "rnn_history = rnn_model.fit(X_train, y_train, epochs=8, validation_data = (X_val, y_val))"
   ]
  },
  {
   "cell_type": "markdown",
   "id": "4f19bc8b",
   "metadata": {},
   "source": [
    "### Test and evaluate the model"
   ]
  },
  {
   "cell_type": "code",
   "execution_count": 17,
   "id": "909f8ab8",
   "metadata": {
    "scrolled": false
   },
   "outputs": [
    {
     "data": {
      "image/png": "[encoded data removed]",
      "text/plain": [
       "<Figure size 576x360 with 1 Axes>"
      ]
     },
     "metadata": {
      "needs_background": "light"
     },
     "output_type": "display_data"
    }
   ],
   "source": [
    "df_accuracy = pd.DataFrame(rnn_history.history)\n",
    "df_accuracy = df_accuracy.drop(columns=['loss', 'val_loss'])\n",
    "df_accuracy.plot(figsize=(8,5))\n",
    "plt.grid(True)\n",
    "plt.gca().set_ylim(0.7,1)\n",
    "plt.xlabel('Epoch')\n",
    "plt.ylabel('Accuracy')\n",
    "plt.title('Learning Curves')\n",
    "plt.show()"
   ]
  },
  {
   "cell_type": "code",
   "execution_count": 18,
   "id": "d805e5f4",
   "metadata": {},
   "outputs": [],
   "source": [
    "X_test = test_set['images'][:,:,:]\n",
    "y_test = test_set['labels']"
   ]
  },
  {
   "cell_type": "code",
   "execution_count": 19,
   "id": "86d0a607",
   "metadata": {
    "scrolled": true
   },
   "outputs": [
    {
     "name": "stdout",
     "output_type": "stream",
     "text": [
      "  7/313 [..............................] - ETA: 2s - loss: 0.3329 - accuracy: 0.8973 "
     ]
    },
    {
     "name": "stderr",
     "output_type": "stream",
     "text": [
      "2022-02-26 21:47:40.705530: I tensorflow/core/grappler/optimizers/custom_graph_optimizer_registry.cc:112] Plugin optimizer for device_type GPU is enabled.\n",
      "2022-02-26 21:47:40.735477: I tensorflow/core/grappler/optimizers/custom_graph_optimizer_registry.cc:112] Plugin optimizer for device_type GPU is enabled.\n"
     ]
    },
    {
     "name": "stdout",
     "output_type": "stream",
     "text": [
      "313/313 [==============================] - 3s 8ms/step - loss: 0.3445 - accuracy: 0.8751\n",
      "Test Loss:  0.34452369809150696\n",
      "Test Accuracy:  0.8751000165939331\n"
     ]
    }
   ],
   "source": [
    "test_loss, test_accuracy = rnn_model.evaluate(X_test, y_test)\n",
    "print('Test Loss: ', test_loss)\n",
    "print('Test Accuracy: ', test_accuracy)"
   ]
  },
  {
   "cell_type": "code",
   "execution_count": 20,
   "id": "991ed71c",
   "metadata": {},
   "outputs": [],
   "source": [
    "def visualize_chart(ax, proba, actual): \n",
    "    x = np.arange(10)\n",
    "    mask_pred = np.argmax(proba)\n",
    "    mask_actual = np.argmax(actual)\n",
    "    mask_rest = np.delete(x, np.maximum(mask_pred, mask_actual))\n",
    "    mask_rest = np.delete(mask_rest, np.minimum(mask_pred, mask_actual))\n",
    "    \n",
    "    ax.bar(x[mask_pred], proba[mask_pred], color='blue')\n",
    "    ax.bar(x[mask_actual], proba[mask_actual], color='green')\n",
    "    ax.bar(x[mask_rest], proba[mask_rest], color='grey')\n",
    "    ax.set_xticks(x)\n",
    "    ax.set_yticks([])\n",
    "    ax.set_ylim(0, 1)"
   ]
  },
  {
   "cell_type": "code",
   "execution_count": 21,
   "id": "c4da52e5",
   "metadata": {},
   "outputs": [
    {
     "name": "stderr",
     "output_type": "stream",
     "text": [
      "2022-02-26 21:47:45.928152: I tensorflow/core/grappler/optimizers/custom_graph_optimizer_registry.cc:112] Plugin optimizer for device_type GPU is enabled.\n",
      "2022-02-26 21:47:45.946018: I tensorflow/core/grappler/optimizers/custom_graph_optimizer_registry.cc:112] Plugin optimizer for device_type GPU is enabled.\n"
     ]
    }
   ],
   "source": [
    "X_test_sample = X_test[33:37, :, :]\n",
    "y_proba_sample = rnn_model.predict(X_test_sample)\n",
    "y_actual_sample = y_test[33:37, :]"
   ]
  },
  {
   "cell_type": "code",
   "execution_count": 22,
   "id": "2a8c7a3e",
   "metadata": {},
   "outputs": [
    {
     "data": {
      "image/png": "[encoded data removed]",
      "text/plain": [
       "<Figure size 864x432 with 8 Axes>"
      ]
     },
     "metadata": {
      "needs_background": "light"
     },
     "output_type": "display_data"
    },
    {
     "data": {
      "text/plain": [
       "<Figure size 432x288 with 0 Axes>"
      ]
     },
     "metadata": {},
     "output_type": "display_data"
    }
   ],
   "source": [
    "fig, axes = plt.subplots(nrows=2, ncols=4, figsize=(12, 6))\n",
    "\n",
    "for i in range(4):\n",
    "    img = X_test_sample[i]\n",
    "    proba = y_proba_sample[i]\n",
    "    actual = y_actual_sample[i]\n",
    "    title = f'{class_names[np.argmax(y_actual_sample[i])]} ({np.argmax(y_actual_sample[i])})'\n",
    "    visualize_img(axes[2*i // 4, 2*i % 4], img, title)\n",
    "    visualize_chart(axes[2*i // 4, 2*i % 4 + 1], proba, actual)\n",
    "\n",
    "plt.show()\n",
    "plt.tight_layout()"
   ]
  },
  {
   "cell_type": "code",
   "execution_count": 23,
   "id": "8df35bc2",
   "metadata": {},
   "outputs": [
    {
     "name": "stdout",
     "output_type": "stream",
     "text": [
      "[[804   3  22  27   4   1 124   1  14   0]\n",
      " [  5 966   2  20   3   0   3   0   1   0]\n",
      " [  7   0 767  12  97   0 115   0   2   0]\n",
      " [ 19   5  21 893  31   0  27   0   4   0]\n",
      " [  0   1  81  36 784   1  93   0   4   0]\n",
      " [  0   0   0   2   0 959   0  26   1  12]\n",
      " [119   5  57  30  47   0 725   0  17   0]\n",
      " [  0   0   0   0   0  10   0 985   0   5]\n",
      " [  4   0   5   3   3   2   1   7 975   0]\n",
      " [  1   0   0   1   0   6   0  99   0 893]]\n"
     ]
    },
    {
     "data": {
      "text/plain": [
       "<AxesSubplot:>"
      ]
     },
     "execution_count": 23,
     "metadata": {},
     "output_type": "execute_result"
    },
    {
     "data": {
      "image/png": "[encoded data removed]",
      "text/plain": [
       "<Figure size 432x288 with 2 Axes>"
      ]
     },
     "metadata": {
      "needs_background": "light"
     },
     "output_type": "display_data"
    }
   ],
   "source": [
    "y_test_classes = np.argmax(y_test, axis=1)\n",
    "y_pred = rnn_model.predict(X_test)\n",
    "y_pred_classes = np.argmax(y_pred, axis=1)\n",
    "cf_matrix = confusion_matrix(y_test_classes, y_pred_classes)\n",
    "\n",
    "print(cf_matrix)\n",
    "sns.heatmap(cf_matrix, annot=True)"
   ]
  },
  {
   "cell_type": "code",
   "execution_count": null,
   "id": "0d736cff",
   "metadata": {},
   "outputs": [],
   "source": []
  }
 ],
 "metadata": {
  "kernelspec": {
   "display_name": "tf",
   "language": "python",
   "name": "tf"
  },
  "language_info": {
   "codemirror_mode": {
    "name": "ipython",
    "version": 3
   },
   "file_extension": ".py",
   "mimetype": "text/x-python",
   "name": "python",
   "nbconvert_exporter": "python",
   "pygments_lexer": "ipython3",
   "version": "3.8.12"
  }
 },
 "nbformat": 4,
 "nbformat_minor": 5
}
