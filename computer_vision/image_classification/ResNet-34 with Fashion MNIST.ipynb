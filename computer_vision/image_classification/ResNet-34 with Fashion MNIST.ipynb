{
 "cells": [
  {
   "cell_type": "markdown",
   "id": "caca8def",
   "metadata": {},
   "source": [
    "### Import libraries"
   ]
  },
  {
   "cell_type": "code",
   "execution_count": 122,
   "id": "7d335ed5",
   "metadata": {},
   "outputs": [],
   "source": [
    "import tensorflow as tf\n",
    "import tensorflow_datasets as tfds\n",
    "from tensorflow import keras\n",
    "import numpy as np\n",
    "import pandas as pd\n",
    "import matplotlib.pyplot as plt"
   ]
  },
  {
   "cell_type": "markdown",
   "id": "38e0499a",
   "metadata": {},
   "source": [
    "### Load fashion_mnist data"
   ]
  },
  {
   "cell_type": "markdown",
   "id": "7c8aba3b",
   "metadata": {},
   "source": [
    "Load dataset and info using tensorflow datasets. <br>\n",
    "Even though fashion mnist is stored in a single file, let's shuffle it because it is a good practice. <br>\n",
    "Since we are going to train ResNet in supervised way, we need labels. Let's set as_supervised as True."
   ]
  },
  {
   "cell_type": "code",
   "execution_count": 111,
   "id": "75be3326",
   "metadata": {},
   "outputs": [],
   "source": [
    "(ds_train, ds_valid, ds_test), info = tfds.load(\n",
    "    \"fashion_mnist\",\n",
    "    split=['train[:90%]', 'train[90%:100%]', 'test'],\n",
    "    shuffle_files=True,\n",
    "    as_supervised=True, \n",
    "    with_info=True\n",
    ")"
   ]
  },
  {
   "cell_type": "markdown",
   "id": "f7b7e5db",
   "metadata": {},
   "source": [
    "Tensorflow datasets info contains metatdata on dataset. Let's see information on dataset."
   ]
  },
  {
   "cell_type": "code",
   "execution_count": 112,
   "id": "bc7ce2c2",
   "metadata": {},
   "outputs": [
    {
     "name": "stdout",
     "output_type": "stream",
     "text": [
      "Number of classes: 10\n",
      "Labels: ['T-shirt/top', 'Trouser', 'Pullover', 'Dress', 'Coat', 'Sandal', 'Shirt', 'Sneaker', 'Bag', 'Ankle boot']\n",
      "Number of trainig set instances: 54000\n",
      "Number of validation set instances: 6000\n",
      "Number of test set instances: 10000\n",
      "Shape of image: (28, 28, 1)\n",
      "Shape of label: ()\n"
     ]
    }
   ],
   "source": [
    "print(f'Number of classes: {info.features[\"label\"].num_classes}')\n",
    "print(f'Labels: {info.features[\"label\"].names}')\n",
    "print(f'Number of trainig set instances: {len(ds_train)}')\n",
    "print(f'Number of validation set instances: {len(ds_valid)}')\n",
    "print(f'Number of test set instances: {len(ds_test)}')\n",
    "print(f'Shape of image: {info.features[\"image\"].shape}')\n",
    "print(f'Shape of label: {info.features[\"label\"].shape}')"
   ]
  },
  {
   "cell_type": "markdown",
   "id": "4945c560",
   "metadata": {},
   "source": [
    "### Build a training pipeline"
   ]
  },
  {
   "cell_type": "markdown",
   "id": "03fa98c8",
   "metadata": {},
   "source": [
    "Normalize data so that each value ranges from 0 to 1. <br>\n",
    "Cache the dataset to memory for better performance. <br>\n",
    "Shuffle for the randomness. <br>\n",
    "Set number of batches to 256. Batching should be done after shuffling. <br>\n",
    "Set prefetch so that input pipeline can get ready for next step. tf.data.AUTOTUNE will tune the value at runtime."
   ]
  },
  {
   "cell_type": "code",
   "execution_count": 113,
   "id": "24ee2cbf",
   "metadata": {},
   "outputs": [],
   "source": [
    "def preprocess(image, label):\n",
    "    \"\"\"Normalizes images and converts label to categorical\"\"\"\n",
    "    image = tf.cast(image, tf.float32) / 255\n",
    "    label = tf.one_hot(label, 10)\n",
    "    return image, label\n",
    "\n",
    "ds_train = ds_train.map(preprocess, num_parallel_calls=tf.data.AUTOTUNE)\n",
    "ds_train = ds_train.cache()\n",
    "ds_train = ds_train.shuffle(info.splits['train'].num_examples)\n",
    "ds_train = ds_train.batch(256)\n",
    "ds_train = ds_train.prefetch(tf.data.AUTOTUNE)\n",
    "\n",
    "ds_valid = ds_valid.map(preprocess, num_parallel_calls=tf.data.AUTOTUNE)\n",
    "ds_valid = ds_valid.batch(128)\n",
    "ds_valid = ds_valid.cache()\n",
    "ds_valid = ds_valid.prefetch(tf.data.AUTOTUNE)"
   ]
  },
  {
   "cell_type": "markdown",
   "id": "879039cc",
   "metadata": {},
   "source": [
    "### Build an evaluation pipeline"
   ]
  },
  {
   "cell_type": "markdown",
   "id": "4e995223",
   "metadata": {},
   "source": [
    "Shuffling is not required."
   ]
  },
  {
   "cell_type": "code",
   "execution_count": 114,
   "id": "254ff374",
   "metadata": {},
   "outputs": [],
   "source": [
    "ds_test = ds_test.map(preprocess, num_parallel_calls=tf.data.AUTOTUNE)\n",
    "ds_test = ds_test.batch(128)\n",
    "ds_test = ds_test.cache()\n",
    "ds_test = ds_test.prefetch(tf.data.AUTOTUNE)"
   ]
  },
  {
   "cell_type": "markdown",
   "id": "27aaaa7e",
   "metadata": {},
   "source": [
    "### Create a ResNet-34 model"
   ]
  },
  {
   "cell_type": "markdown",
   "id": "a07bbd32",
   "metadata": {},
   "source": [
    "Let's implement a ResNet-34 model from scratch.<br>\n",
    "ResNet-34 is a variant of ResNet which is a deep CNN composed of 34 layers.<br>\n",
    "ResNet is characterized by its <i>residual units</i> (RUs) with skip connection.<br>\n",
    "Since its unique form, we need to implement residual unit layer first when we create a ResNet model."
   ]
  },
  {
   "cell_type": "code",
   "execution_count": 115,
   "id": "b3faa442",
   "metadata": {},
   "outputs": [],
   "source": [
    "class ResidualUnit(keras.layers.Layer):\n",
    "    def __init__(self, filters, strides=1, activation=\"relu\", **kwargs):\n",
    "        super().__init__(**kwargs)\n",
    "        self.activation = keras.activations.get(activation)\n",
    "        self.main_layers = [\n",
    "          keras.layers.Conv2D(filters, 3, strides=strides, padding=\"same\", use_bias=False),\n",
    "          keras.layers.BatchNormalization(),\n",
    "          self.activation,\n",
    "          keras.layers.Conv2D(filters, 3, strides=1, padding=\"same\", use_bias=False),\n",
    "          keras.layers.BatchNormalization()\n",
    "        ]\n",
    "        self.skip_layers = []\n",
    "        if strides > 1:\n",
    "            self.skip_layers = [\n",
    "                keras.layers.Conv2D(filters, 1, strides=strides, padding=\"same\", use_bias=False),\n",
    "                keras.layers.BatchNormalization()\n",
    "                ]\n",
    "\n",
    "    def call(self, inputs):\n",
    "        Z = inputs\n",
    "        for layer in self.main_layers:\n",
    "            Z = layer(Z)\n",
    "        skip_Z = inputs\n",
    "        for layer in self.skip_layers:\n",
    "            skip_Z = layer(skip_Z)\n",
    "        return self.activation(Z + skip_Z)"
   ]
  },
  {
   "cell_type": "markdown",
   "id": "1fe6c349",
   "metadata": {},
   "source": [
    "Now that we've got Residual Unit Layer class, let's implement ResNet-34 from scratch"
   ]
  },
  {
   "cell_type": "code",
   "execution_count": 116,
   "id": "1e9d00ce",
   "metadata": {},
   "outputs": [],
   "source": [
    "resNet34 = keras.models.Sequential()\n",
    "resNet34.add(keras.layers.Conv2D(64, 7, strides=2, input_shape=[28, 28, 1], padding=\"same\", use_bias=False))\n",
    "resNet34.add(keras.layers.BatchNormalization())\n",
    "resNet34.add(keras.layers.Activation(\"relu\"))\n",
    "resNet34.add(keras.layers.MaxPool2D(pool_size=3, strides=2, padding=\"same\"))\n",
    "prev_filters = 64\n",
    "for filters in [64] * 3 + [128] * 4 + [256] * 6 + [512] * 3:\n",
    "    strides = 1 if filters == prev_filters else 2\n",
    "    resNet34.add(ResidualUnit(filters, strides=strides))\n",
    "    prev_filters = filters\n",
    "resNet34.add(keras.layers.GlobalAvgPool2D())\n",
    "resNet34.add(keras.layers.Flatten())\n",
    "resNet34.add(keras.layers.Dense(10, activation=\"softmax\"))"
   ]
  },
  {
   "cell_type": "markdown",
   "id": "29a81bf7",
   "metadata": {},
   "source": [
    "Summary shows the models 34 layered architecture."
   ]
  },
  {
   "cell_type": "code",
   "execution_count": 117,
   "id": "f2f3e035",
   "metadata": {},
   "outputs": [
    {
     "name": "stdout",
     "output_type": "stream",
     "text": [
      "Model: \"sequential_2\"\n",
      "_________________________________________________________________\n",
      "Layer (type)                 Output Shape              Param #   \n",
      "=================================================================\n",
      "conv2d_72 (Conv2D)           (None, 14, 14, 64)        3136      \n",
      "_________________________________________________________________\n",
      "batch_normalization_72 (Batc (None, 14, 14, 64)        256       \n",
      "_________________________________________________________________\n",
      "activation_2 (Activation)    (None, 14, 14, 64)        0         \n",
      "_________________________________________________________________\n",
      "max_pooling2d_2 (MaxPooling2 (None, 7, 7, 64)          0         \n",
      "_________________________________________________________________\n",
      "residual_unit_32 (ResidualUn (None, 7, 7, 64)          74240     \n",
      "_________________________________________________________________\n",
      "residual_unit_33 (ResidualUn (None, 7, 7, 64)          74240     \n",
      "_________________________________________________________________\n",
      "residual_unit_34 (ResidualUn (None, 7, 7, 64)          74240     \n",
      "_________________________________________________________________\n",
      "residual_unit_35 (ResidualUn (None, 4, 4, 128)         230912    \n",
      "_________________________________________________________________\n",
      "residual_unit_36 (ResidualUn (None, 4, 4, 128)         295936    \n",
      "_________________________________________________________________\n",
      "residual_unit_37 (ResidualUn (None, 4, 4, 128)         295936    \n",
      "_________________________________________________________________\n",
      "residual_unit_38 (ResidualUn (None, 4, 4, 128)         295936    \n",
      "_________________________________________________________________\n",
      "residual_unit_39 (ResidualUn (None, 2, 2, 256)         920576    \n",
      "_________________________________________________________________\n",
      "residual_unit_40 (ResidualUn (None, 2, 2, 256)         1181696   \n",
      "_________________________________________________________________\n",
      "residual_unit_41 (ResidualUn (None, 2, 2, 256)         1181696   \n",
      "_________________________________________________________________\n",
      "residual_unit_42 (ResidualUn (None, 2, 2, 256)         1181696   \n",
      "_________________________________________________________________\n",
      "residual_unit_43 (ResidualUn (None, 2, 2, 256)         1181696   \n",
      "_________________________________________________________________\n",
      "residual_unit_44 (ResidualUn (None, 2, 2, 256)         1181696   \n",
      "_________________________________________________________________\n",
      "residual_unit_45 (ResidualUn (None, 1, 1, 512)         3676160   \n",
      "_________________________________________________________________\n",
      "residual_unit_46 (ResidualUn (None, 1, 1, 512)         4722688   \n",
      "_________________________________________________________________\n",
      "residual_unit_47 (ResidualUn (None, 1, 1, 512)         4722688   \n",
      "_________________________________________________________________\n",
      "global_average_pooling2d_2 ( (None, 512)               0         \n",
      "_________________________________________________________________\n",
      "flatten_2 (Flatten)          (None, 512)               0         \n",
      "_________________________________________________________________\n",
      "dense_2 (Dense)              (None, 10)                5130      \n",
      "=================================================================\n",
      "Total params: 21,300,554\n",
      "Trainable params: 21,283,530\n",
      "Non-trainable params: 17,024\n",
      "_________________________________________________________________\n"
     ]
    }
   ],
   "source": [
    "resNet34.summary()"
   ]
  },
  {
   "cell_type": "markdown",
   "id": "6899620a",
   "metadata": {},
   "source": [
    "### Train the ResNet-34"
   ]
  },
  {
   "cell_type": "code",
   "execution_count": 119,
   "id": "ca9d0a1b",
   "metadata": {
    "scrolled": true
   },
   "outputs": [
    {
     "name": "stdout",
     "output_type": "stream",
     "text": [
      "Epoch 1/10\n"
     ]
    },
    {
     "name": "stderr",
     "output_type": "stream",
     "text": [
      "2022-02-26 20:32:46.288473: I tensorflow/core/grappler/optimizers/custom_graph_optimizer_registry.cc:112] Plugin optimizer for device_type GPU is enabled.\n"
     ]
    },
    {
     "name": "stdout",
     "output_type": "stream",
     "text": [
      "211/211 [==============================] - ETA: 0s - loss: 0.4543 - accuracy: 0.8388"
     ]
    },
    {
     "name": "stderr",
     "output_type": "stream",
     "text": [
      "2022-02-26 20:33:40.237250: I tensorflow/core/grappler/optimizers/custom_graph_optimizer_registry.cc:112] Plugin optimizer for device_type GPU is enabled.\n"
     ]
    },
    {
     "name": "stdout",
     "output_type": "stream",
     "text": [
      "211/211 [==============================] - 56s 260ms/step - loss: 0.4543 - accuracy: 0.8388 - val_loss: 2.5936 - val_accuracy: 0.3352\n",
      "Epoch 2/10\n",
      "211/211 [==============================] - 52s 246ms/step - loss: 0.3028 - accuracy: 0.8876 - val_loss: 0.4940 - val_accuracy: 0.8160\n",
      "Epoch 3/10\n",
      "211/211 [==============================] - 52s 249ms/step - loss: 0.2633 - accuracy: 0.9018 - val_loss: 0.3499 - val_accuracy: 0.8752\n",
      "Epoch 4/10\n",
      "211/211 [==============================] - 53s 250ms/step - loss: 0.2335 - accuracy: 0.9145 - val_loss: 0.3932 - val_accuracy: 0.8698\n",
      "Epoch 5/10\n",
      "211/211 [==============================] - 52s 246ms/step - loss: 0.2133 - accuracy: 0.9194 - val_loss: 0.3326 - val_accuracy: 0.8878\n",
      "Epoch 6/10\n",
      "211/211 [==============================] - 52s 248ms/step - loss: 0.1977 - accuracy: 0.9256 - val_loss: 0.3893 - val_accuracy: 0.8663\n",
      "Epoch 7/10\n",
      "211/211 [==============================] - 52s 246ms/step - loss: 0.1801 - accuracy: 0.9320 - val_loss: 0.4010 - val_accuracy: 0.8707\n",
      "Epoch 8/10\n",
      "211/211 [==============================] - 52s 245ms/step - loss: 0.1680 - accuracy: 0.9379 - val_loss: 0.3714 - val_accuracy: 0.8795\n",
      "Epoch 9/10\n",
      "211/211 [==============================] - 52s 248ms/step - loss: 0.1563 - accuracy: 0.9409 - val_loss: 0.3309 - val_accuracy: 0.8870\n",
      "Epoch 10/10\n",
      "211/211 [==============================] - 52s 245ms/step - loss: 0.1392 - accuracy: 0.9469 - val_loss: 0.3272 - val_accuracy: 0.8923\n"
     ]
    }
   ],
   "source": [
    "resNet34.compile(optimizer=\"adam\", loss=tf.keras.losses.categorical_crossentropy, metrics=[\"accuracy\"])\n",
    "history = resNet34.fit(\n",
    "    ds_train, \n",
    "    epochs=10,\n",
    "    validation_data=ds_valid\n",
    ")"
   ]
  },
  {
   "cell_type": "markdown",
   "id": "da4d9ed1",
   "metadata": {},
   "source": [
    "### Visualize training results"
   ]
  },
  {
   "cell_type": "code",
   "execution_count": 125,
   "id": "ff5deb72",
   "metadata": {
    "scrolled": true
   },
   "outputs": [
    {
     "data": {
      "image/png": "[encoded data removed]",
      "text/plain": [
       "<Figure size 576x360 with 1 Axes>"
      ]
     },
     "metadata": {
      "needs_background": "light"
     },
     "output_type": "display_data"
    }
   ],
   "source": [
    "df_history = pd.DataFrame(history.history)\n",
    "df_history.plot(figsize=(8,5))\n",
    "plt.grid(True)\n",
    "plt.ylim(0, 1)\n",
    "plt.xlabel('Epoch')\n",
    "plt.ylabel('Accuracy')\n",
    "plt.title('Learning Curves')\n",
    "plt.show()"
   ]
  },
  {
   "cell_type": "markdown",
   "id": "f7aaed30",
   "metadata": {},
   "source": [
    "Validation accuracy is lower than accuracy in every epoch. We can see the model is slightly overfitted to training set."
   ]
  },
  {
   "cell_type": "markdown",
   "id": "b9b54cd5",
   "metadata": {},
   "source": [
    "### Evaluate with test set"
   ]
  },
  {
   "cell_type": "code",
   "execution_count": 127,
   "id": "e03f8161",
   "metadata": {},
   "outputs": [
    {
     "name": "stdout",
     "output_type": "stream",
     "text": [
      "79/79 [==============================] - 2s 24ms/step - loss: 0.3656 - accuracy: 0.8823\n",
      "Accuracy on test set: 0.8823000192642212\n"
     ]
    }
   ],
   "source": [
    "loss, accuracy = resNet34.evaluate(ds_test)\n",
    "print(f'Accuracy on test set: {accuracy}')"
   ]
  },
  {
   "cell_type": "markdown",
   "id": "516325fe",
   "metadata": {},
   "source": [
    "Final accuracy of ResNet-34 on Fashion MNIST dataset turns out to be about 88%."
   ]
  },
  {
   "cell_type": "markdown",
   "id": "d12e71f1",
   "metadata": {},
   "source": [
    "### References"
   ]
  },
  {
   "cell_type": "markdown",
   "id": "86eb3a70",
   "metadata": {},
   "source": [
    "1. Tensorflow Datasets: https://www.tensorflow.org/datasets/keras_example\n",
    "2. ResNet-34 Implementation: Aurelien Geron. (2019). Hands-on Machine Learning with Scikit-Learn, Keras & TensorFlow. O'REILLY."
   ]
  }
 ],
 "metadata": {
  "kernelspec": {
   "display_name": "tf",
   "language": "python",
   "name": "tf"
  },
  "language_info": {
   "codemirror_mode": {
    "name": "ipython",
    "version": 3
   },
   "file_extension": ".py",
   "mimetype": "text/x-python",
   "name": "python",
   "nbconvert_exporter": "python",
   "pygments_lexer": "ipython3",
   "version": "3.8.12"
  }
 },
 "nbformat": 4,
 "nbformat_minor": 5
}
