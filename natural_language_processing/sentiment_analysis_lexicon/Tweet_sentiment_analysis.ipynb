{
 "cells": [
  {
   "cell_type": "markdown",
   "id": "e771a49d",
   "metadata": {},
   "source": [
    "Author: Wonsuk Cha <br>\n",
    "Date: Feb 14 2022"
   ]
  },
  {
   "cell_type": "markdown",
   "id": "4a41f1cf",
   "metadata": {},
   "source": [
    "## Goal of the project"
   ]
  },
  {
   "cell_type": "markdown",
   "id": "3c8f29bb",
   "metadata": {},
   "source": [
    "The purpose of this project is to conduct sentiment analysis by creating lexicon approach model from scratch. In this project, we use two set of vocabularies representing positive and negative words, instead of using lexicon based models. <br>\n",
    "\n",
    "The model has a limit in that it evaluates sentiment by counting positive and negative words not by undersantding the text. However, it is valuable because it shows the initial form of sentiment analysis model."
   ]
  },
  {
   "cell_type": "markdown",
   "id": "0ad48c34",
   "metadata": {},
   "source": [
    "## Import Libraries"
   ]
  },
  {
   "cell_type": "code",
   "execution_count": 1,
   "id": "6322699f",
   "metadata": {},
   "outputs": [],
   "source": [
    "import pandas as pd\n",
    "import numpy as np\n",
    "from sklearn.metrics import f1_score\n",
    "from sklearn.metrics import accuracy_score\n",
    "import matplotlib.pyplot as plt\n",
    "import os\n",
    "import re\n",
    "import nltk\n",
    "from nltk.tokenize import word_tokenize\n",
    "from nltk.stem import WordNetLemmatizer"
   ]
  },
  {
   "cell_type": "markdown",
   "id": "89dfd3ae",
   "metadata": {},
   "source": [
    "## Read and explore dataset\n",
    "\n",
    "Load tweets data in csv file and store it to pandas dataframe. on_bad_lines='skip' prevents a possible error in reading badly formatted rows.\n",
    "Also, we need to import and keep positive vocabularies and negative vocabularies. These will be stored in type of python list for the convenient use in later process."
   ]
  },
  {
   "cell_type": "code",
   "execution_count": 2,
   "id": "931afdc7",
   "metadata": {},
   "outputs": [],
   "source": [
    "# read data csv\n",
    "FILENAME = 'tweets_data.csv'\n",
    "df = pd.read_csv(os.path.join(os.getcwd(), FILENAME), on_bad_lines='skip')\n",
    "\n",
    "# read positive words and negative words\n",
    "POSITIVE_VOCA_FILE = 'positive_words.csv'\n",
    "NEGATIVE_VOCA_FILE = 'negative_words.csv'\n",
    "pos_vocab = list(pd.read_csv(os.path.join(os.getcwd(), POSITIVE_VOCA_FILE))['positive'])\n",
    "neg_vocab = list(pd.read_csv(os.path.join(os.getcwd(), NEGATIVE_VOCA_FILE))['negative'])"
   ]
  },
  {
   "cell_type": "markdown",
   "id": "5ea43df1",
   "metadata": {},
   "source": [
    "Let's see how dataframe looks like. We can see sentiment, which is our target label, and text we need to analyze."
   ]
  },
  {
   "cell_type": "code",
   "execution_count": 3,
   "id": "152d0aaf",
   "metadata": {},
   "outputs": [
    {
     "data": {
      "text/html": [
       "<div>\n",
       "<style scoped>\n",
       "    .dataframe tbody tr th:only-of-type {\n",
       "        vertical-align: middle;\n",
       "    }\n",
       "\n",
       "    .dataframe tbody tr th {\n",
       "        vertical-align: top;\n",
       "    }\n",
       "\n",
       "    .dataframe thead th {\n",
       "        text-align: right;\n",
       "    }\n",
       "</style>\n",
       "<table border=\"1\" class=\"dataframe\">\n",
       "  <thead>\n",
       "    <tr style=\"text-align: right;\">\n",
       "      <th></th>\n",
       "      <th>sentiment</th>\n",
       "      <th>text</th>\n",
       "      <th>user</th>\n",
       "    </tr>\n",
       "  </thead>\n",
       "  <tbody>\n",
       "    <tr>\n",
       "      <th>0</th>\n",
       "      <td>positive</td>\n",
       "      <td>RT @cutedejun: sm not letting xiaojun go for h...</td>\n",
       "      <td>89SHAWDUHJ</td>\n",
       "    </tr>\n",
       "    <tr>\n",
       "      <th>1</th>\n",
       "      <td>neutral</td>\n",
       "      <td>@JDaniel2033 He spoke at my Naval boot camp gr...</td>\n",
       "      <td>muhlmannhoss</td>\n",
       "    </tr>\n",
       "    <tr>\n",
       "      <th>2</th>\n",
       "      <td>neutral</td>\n",
       "      <td>RT @MdBreathe: Here’s the man to thank for get...</td>\n",
       "      <td>SamArden3</td>\n",
       "    </tr>\n",
       "    <tr>\n",
       "      <th>3</th>\n",
       "      <td>negative</td>\n",
       "      <td>RT @mainintrovert: Aww nagtampo puro raw ako #...</td>\n",
       "      <td>Danielle_240702</td>\n",
       "    </tr>\n",
       "    <tr>\n",
       "      <th>4</th>\n",
       "      <td>negative</td>\n",
       "      <td>RT @devinisasleep: Lexi bout to be giving that...</td>\n",
       "      <td>jxdanquah</td>\n",
       "    </tr>\n",
       "  </tbody>\n",
       "</table>\n",
       "</div>"
      ],
      "text/plain": [
       "  sentiment                                               text  \\\n",
       "0  positive  RT @cutedejun: sm not letting xiaojun go for h...   \n",
       "1   neutral  @JDaniel2033 He spoke at my Naval boot camp gr...   \n",
       "2   neutral  RT @MdBreathe: Here’s the man to thank for get...   \n",
       "3  negative  RT @mainintrovert: Aww nagtampo puro raw ako #...   \n",
       "4  negative  RT @devinisasleep: Lexi bout to be giving that...   \n",
       "\n",
       "              user  \n",
       "0       89SHAWDUHJ  \n",
       "1     muhlmannhoss  \n",
       "2        SamArden3  \n",
       "3  Danielle_240702  \n",
       "4        jxdanquah  "
      ]
     },
     "execution_count": 3,
     "metadata": {},
     "output_type": "execute_result"
    }
   ],
   "source": [
    "# check first five rows\n",
    "df.head(5)"
   ]
  },
  {
   "cell_type": "code",
   "execution_count": 4,
   "id": "ff94a12d",
   "metadata": {},
   "outputs": [
    {
     "name": "stdout",
     "output_type": "stream",
     "text": [
      "Number of tweets:  99\n",
      "Unique values in sentiment column:  ['positive' 'neutral' 'negative']\n",
      "Number of positive tweets:  26\n",
      "Number of neutral tweets:  60\n",
      "Number of negative tweets:  13\n"
     ]
    }
   ],
   "source": [
    "print('Number of tweets: ', df.shape[0])\n",
    "print('Unique values in sentiment column: ', df['sentiment'].unique())\n",
    "print('Number of positive tweets: ', df[df['sentiment'] == 'positive'].shape[0])\n",
    "print('Number of neutral tweets: ', df[df['sentiment'] == 'neutral'].shape[0])\n",
    "print('Number of negative tweets: ', df[df['sentiment'] == 'negative'].shape[0])"
   ]
  },
  {
   "cell_type": "code",
   "execution_count": 5,
   "id": "37f73125",
   "metadata": {},
   "outputs": [
    {
     "data": {
      "image/png": "[encoded data removed]",
      "text/plain": [
       "<Figure size 432x288 with 1 Axes>"
      ]
     },
     "metadata": {
      "needs_background": "light"
     },
     "output_type": "display_data"
    }
   ],
   "source": [
    "# get labels\n",
    "labels = df['sentiment'].unique()\n",
    "\n",
    "# get number of instances for each label\n",
    "numInstance = []\n",
    "for label in labels:\n",
    "    numInstance.append(df[df['sentiment'] == label].shape[0])\n",
    "\n",
    "# plot a bar chart\n",
    "plt.bar(labels, numInstance)\n",
    "plt.title('# of instances for each label')\n",
    "plt.xlabel('label')\n",
    "plt.ylabel('# of instances')\n",
    "plt.show()"
   ]
  },
  {
   "cell_type": "markdown",
   "id": "49da21d8",
   "metadata": {},
   "source": [
    "## Text Cleaning\n",
    "As we can see from the dataframe, current text is not prepared to get into analysis immediately. We need to remove some words that our model cannot digest. This can be done with regex and python string methods."
   ]
  },
  {
   "cell_type": "code",
   "execution_count": 6,
   "id": "8d0ebb92",
   "metadata": {},
   "outputs": [],
   "source": [
    "# define clearning function\n",
    "def tweet_cleaning(text):\n",
    "    # retweet in the beginning\n",
    "    text = re.sub(r'(RT\\s)?(@\\S+)', '', text)\n",
    "    \n",
    "    # three dots in the end\n",
    "    text = re.sub(r'\\w*…', '', text)\n",
    "    \n",
    "    # website\n",
    "    text = re.sub(r'http\\S+', '', text)\n",
    "    \n",
    "    # hashtag\n",
    "    text = re.sub(r'#+[a-zA-Z0-9(_)]{1,}', '', text)\n",
    "    \n",
    "    # new lines\n",
    "    text = text.replace('\\n', '')\n",
    "    \n",
    "    # digits and special chars\n",
    "    text = re.sub(r\"[^a-zA-Z' ]\", \"\", text)\n",
    "    \n",
    "    return text\n",
    "\n",
    "df['cleaned'] = df['text'].apply(tweet_cleaning)"
   ]
  },
  {
   "cell_type": "markdown",
   "id": "c6af6334",
   "metadata": {},
   "source": [
    "After cleaning, now we can see that unncecessary elements in text are all gone."
   ]
  },
  {
   "cell_type": "code",
   "execution_count": 7,
   "id": "9985aa78",
   "metadata": {},
   "outputs": [
    {
     "data": {
      "text/html": [
       "<div>\n",
       "<style scoped>\n",
       "    .dataframe tbody tr th:only-of-type {\n",
       "        vertical-align: middle;\n",
       "    }\n",
       "\n",
       "    .dataframe tbody tr th {\n",
       "        vertical-align: top;\n",
       "    }\n",
       "\n",
       "    .dataframe thead th {\n",
       "        text-align: right;\n",
       "    }\n",
       "</style>\n",
       "<table border=\"1\" class=\"dataframe\">\n",
       "  <thead>\n",
       "    <tr style=\"text-align: right;\">\n",
       "      <th></th>\n",
       "      <th>sentiment</th>\n",
       "      <th>text</th>\n",
       "      <th>user</th>\n",
       "      <th>cleaned</th>\n",
       "    </tr>\n",
       "  </thead>\n",
       "  <tbody>\n",
       "    <tr>\n",
       "      <th>0</th>\n",
       "      <td>positive</td>\n",
       "      <td>RT @cutedejun: sm not letting xiaojun go for h...</td>\n",
       "      <td>89SHAWDUHJ</td>\n",
       "      <td>sm not letting xiaojun go for his graduation ...</td>\n",
       "    </tr>\n",
       "    <tr>\n",
       "      <th>1</th>\n",
       "      <td>neutral</td>\n",
       "      <td>@JDaniel2033 He spoke at my Naval boot camp gr...</td>\n",
       "      <td>muhlmannhoss</td>\n",
       "      <td>He spoke at my Naval boot camp graduation Let...</td>\n",
       "    </tr>\n",
       "    <tr>\n",
       "      <th>2</th>\n",
       "      <td>neutral</td>\n",
       "      <td>RT @MdBreathe: Here’s the man to thank for get...</td>\n",
       "      <td>SamArden3</td>\n",
       "      <td>Heres the man to thank for getting this march...</td>\n",
       "    </tr>\n",
       "    <tr>\n",
       "      <th>3</th>\n",
       "      <td>negative</td>\n",
       "      <td>RT @mainintrovert: Aww nagtampo puro raw ako #...</td>\n",
       "      <td>Danielle_240702</td>\n",
       "      <td>Aww nagtampo puro raw ako  Sorry Rui  Study t...</td>\n",
       "    </tr>\n",
       "    <tr>\n",
       "      <th>4</th>\n",
       "      <td>negative</td>\n",
       "      <td>RT @devinisasleep: Lexi bout to be giving that...</td>\n",
       "      <td>jxdanquah</td>\n",
       "      <td>Lexi bout to be giving that graduation speech...</td>\n",
       "    </tr>\n",
       "  </tbody>\n",
       "</table>\n",
       "</div>"
      ],
      "text/plain": [
       "  sentiment                                               text  \\\n",
       "0  positive  RT @cutedejun: sm not letting xiaojun go for h...   \n",
       "1   neutral  @JDaniel2033 He spoke at my Naval boot camp gr...   \n",
       "2   neutral  RT @MdBreathe: Here’s the man to thank for get...   \n",
       "3  negative  RT @mainintrovert: Aww nagtampo puro raw ako #...   \n",
       "4  negative  RT @devinisasleep: Lexi bout to be giving that...   \n",
       "\n",
       "              user                                            cleaned  \n",
       "0       89SHAWDUHJ   sm not letting xiaojun go for his graduation ...  \n",
       "1     muhlmannhoss   He spoke at my Naval boot camp graduation Let...  \n",
       "2        SamArden3   Heres the man to thank for getting this march...  \n",
       "3  Danielle_240702   Aww nagtampo puro raw ako  Sorry Rui  Study t...  \n",
       "4        jxdanquah   Lexi bout to be giving that graduation speech...  "
      ]
     },
     "execution_count": 7,
     "metadata": {},
     "output_type": "execute_result"
    }
   ],
   "source": [
    "df.head()"
   ]
  },
  {
   "cell_type": "markdown",
   "id": "1baf8d1e",
   "metadata": {},
   "source": [
    "## Preprocessing"
   ]
  },
  {
   "cell_type": "code",
   "execution_count": 8,
   "id": "1b3437eb",
   "metadata": {},
   "outputs": [],
   "source": [
    "# WordNetLemmatizer instantiate\n",
    "lemmatizer = WordNetLemmatizer()\n",
    "\n",
    "# define preprocessing function\n",
    "def text_preprocessing(text):\n",
    "    # 1) Lowercase\n",
    "    text = text.lower()\n",
    "\n",
    "    # 2) tokenize\n",
    "    lst_text = word_tokenize(text)\n",
    "    \n",
    "    # 3) lemmatize\n",
    "    lst_lemmatized = [lemmatizer.lemmatize(token) for token in lst_text]\n",
    "\n",
    "    return lst_lemmatized\n",
    "\n",
    "# preprocess\n",
    "df['preprocessed'] = df['cleaned'].apply(text_preprocessing)"
   ]
  },
  {
   "cell_type": "code",
   "execution_count": 9,
   "id": "23c047c5",
   "metadata": {},
   "outputs": [
    {
     "data": {
      "text/html": [
       "<div>\n",
       "<style scoped>\n",
       "    .dataframe tbody tr th:only-of-type {\n",
       "        vertical-align: middle;\n",
       "    }\n",
       "\n",
       "    .dataframe tbody tr th {\n",
       "        vertical-align: top;\n",
       "    }\n",
       "\n",
       "    .dataframe thead th {\n",
       "        text-align: right;\n",
       "    }\n",
       "</style>\n",
       "<table border=\"1\" class=\"dataframe\">\n",
       "  <thead>\n",
       "    <tr style=\"text-align: right;\">\n",
       "      <th></th>\n",
       "      <th>sentiment</th>\n",
       "      <th>text</th>\n",
       "      <th>user</th>\n",
       "      <th>cleaned</th>\n",
       "      <th>preprocessed</th>\n",
       "    </tr>\n",
       "  </thead>\n",
       "  <tbody>\n",
       "    <tr>\n",
       "      <th>0</th>\n",
       "      <td>positive</td>\n",
       "      <td>RT @cutedejun: sm not letting xiaojun go for h...</td>\n",
       "      <td>89SHAWDUHJ</td>\n",
       "      <td>sm not letting xiaojun go for his graduation ...</td>\n",
       "      <td>[sm, not, letting, xiaojun, go, for, his, grad...</td>\n",
       "    </tr>\n",
       "    <tr>\n",
       "      <th>1</th>\n",
       "      <td>neutral</td>\n",
       "      <td>@JDaniel2033 He spoke at my Naval boot camp gr...</td>\n",
       "      <td>muhlmannhoss</td>\n",
       "      <td>He spoke at my Naval boot camp graduation Let...</td>\n",
       "      <td>[he, spoke, at, my, naval, boot, camp, graduat...</td>\n",
       "    </tr>\n",
       "    <tr>\n",
       "      <th>2</th>\n",
       "      <td>neutral</td>\n",
       "      <td>RT @MdBreathe: Here’s the man to thank for get...</td>\n",
       "      <td>SamArden3</td>\n",
       "      <td>Heres the man to thank for getting this march...</td>\n",
       "      <td>[here, the, man, to, thank, for, getting, this...</td>\n",
       "    </tr>\n",
       "    <tr>\n",
       "      <th>3</th>\n",
       "      <td>negative</td>\n",
       "      <td>RT @mainintrovert: Aww nagtampo puro raw ako #...</td>\n",
       "      <td>Danielle_240702</td>\n",
       "      <td>Aww nagtampo puro raw ako  Sorry Rui  Study t...</td>\n",
       "      <td>[aww, nagtampo, puro, raw, ako, sorry, rui, st...</td>\n",
       "    </tr>\n",
       "    <tr>\n",
       "      <th>4</th>\n",
       "      <td>negative</td>\n",
       "      <td>RT @devinisasleep: Lexi bout to be giving that...</td>\n",
       "      <td>jxdanquah</td>\n",
       "      <td>Lexi bout to be giving that graduation speech...</td>\n",
       "      <td>[lexi, bout, to, be, giving, that, graduation,...</td>\n",
       "    </tr>\n",
       "  </tbody>\n",
       "</table>\n",
       "</div>"
      ],
      "text/plain": [
       "  sentiment                                               text  \\\n",
       "0  positive  RT @cutedejun: sm not letting xiaojun go for h...   \n",
       "1   neutral  @JDaniel2033 He spoke at my Naval boot camp gr...   \n",
       "2   neutral  RT @MdBreathe: Here’s the man to thank for get...   \n",
       "3  negative  RT @mainintrovert: Aww nagtampo puro raw ako #...   \n",
       "4  negative  RT @devinisasleep: Lexi bout to be giving that...   \n",
       "\n",
       "              user                                            cleaned  \\\n",
       "0       89SHAWDUHJ   sm not letting xiaojun go for his graduation ...   \n",
       "1     muhlmannhoss   He spoke at my Naval boot camp graduation Let...   \n",
       "2        SamArden3   Heres the man to thank for getting this march...   \n",
       "3  Danielle_240702   Aww nagtampo puro raw ako  Sorry Rui  Study t...   \n",
       "4        jxdanquah   Lexi bout to be giving that graduation speech...   \n",
       "\n",
       "                                        preprocessed  \n",
       "0  [sm, not, letting, xiaojun, go, for, his, grad...  \n",
       "1  [he, spoke, at, my, naval, boot, camp, graduat...  \n",
       "2  [here, the, man, to, thank, for, getting, this...  \n",
       "3  [aww, nagtampo, puro, raw, ako, sorry, rui, st...  \n",
       "4  [lexi, bout, to, be, giving, that, graduation,...  "
      ]
     },
     "execution_count": 9,
     "metadata": {},
     "output_type": "execute_result"
    }
   ],
   "source": [
    "df.head()"
   ]
  },
  {
   "cell_type": "markdown",
   "id": "0091c239",
   "metadata": {},
   "source": [
    "## Get sentiment score and predict"
   ]
  },
  {
   "cell_type": "markdown",
   "id": "6201b048",
   "metadata": {},
   "source": [
    "There must be a lot of ways for calculating sentiment score. But here we use the following way.<br>\n",
    "1. Calculate the proportion of positive words.<br>\n",
    "2. Calculate the proportion of negative words.<br>\n",
    "3. Subtract the value of 2 from the value of 1.<br>\n",
    "\n",
    "Theoretically, the score ranges from -1 to 1."
   ]
  },
  {
   "cell_type": "code",
   "execution_count": 10,
   "id": "3f0641b7",
   "metadata": {},
   "outputs": [],
   "source": [
    "# define a function for sentiment score calculation\n",
    "def get_sentiment_score(tokens):\n",
    "    \n",
    "    # length of tokens\n",
    "    token_len = len(tokens)\n",
    "    \n",
    "    # proportion of positive & negative words\n",
    "    pos_counter = 0\n",
    "    neg_counter = 0\n",
    "    for token in tokens:\n",
    "        if token in pos_vocab: pos_counter += 1\n",
    "        if token in neg_vocab: neg_counter += 1\n",
    "            \n",
    "    pos_rate = pos_counter / token_len\n",
    "    neg_rate = neg_counter / token_len\n",
    "    \n",
    "    # return sentiment score\n",
    "    return pos_rate - neg_rate\n",
    "\n",
    "# calculate score\n",
    "df['score'] = df['preprocessed'].apply(get_sentiment_score)"
   ]
  },
  {
   "cell_type": "markdown",
   "id": "dd1ac8c9",
   "metadata": {},
   "source": [
    "Now that we got the sentiment score of each tweet, let's compare the distribution of scores with actual labels."
   ]
  },
  {
   "cell_type": "code",
   "execution_count": 11,
   "id": "cd656612",
   "metadata": {},
   "outputs": [
    {
     "data": {
      "image/png": "[encoded data removed]",
      "text/plain": [
       "<Figure size 432x288 with 1 Axes>"
      ]
     },
     "metadata": {
      "needs_background": "light"
     },
     "output_type": "display_data"
    }
   ],
   "source": [
    "# bins that will be used for histogram\n",
    "bins = [-0.3, -0.25, -0.2, -0.15, -0.1, -0.05, 0, 0.05, 0.1, 0.15, 0.2, 0.25, 0.3]\n",
    "\n",
    "# plot\n",
    "plt.hist(df['score'], bins)\n",
    "plt.title('score distribution')\n",
    "plt.ylabel('# of instances')\n",
    "plt.xlabel('score')\n",
    "plt.show()"
   ]
  },
  {
   "cell_type": "markdown",
   "id": "bb0892c7",
   "metadata": {},
   "source": [
    "To assign each record to one of sentiment classes, we need to draw lines to classify. I applied the following rules.<br>\n",
    "1. score < 0: negative\n",
    "2. score == 0: neutral\n",
    "3. score > 0: positive"
   ]
  },
  {
   "cell_type": "code",
   "execution_count": 12,
   "id": "dc084e4a",
   "metadata": {},
   "outputs": [],
   "source": [
    "# define sentiment classifier\n",
    "def sentiment_classifier(score):\n",
    "    if score < 0:\n",
    "        return 'negative'\n",
    "    elif score == 0.0:\n",
    "        return 'neutral'\n",
    "    else:\n",
    "        return 'positive'\n",
    "\n",
    "# prediction\n",
    "df['sentiment_pred'] = df['score'].apply(sentiment_classifier)"
   ]
  },
  {
   "cell_type": "markdown",
   "id": "7f545e41",
   "metadata": {},
   "source": [
    "## Evaluate the model\n",
    "\n",
    "It's the moment of truth. Let's evaluate the model's prediction based on the given label"
   ]
  },
  {
   "cell_type": "code",
   "execution_count": 13,
   "id": "d5e7ded1",
   "metadata": {},
   "outputs": [
    {
     "name": "stdout",
     "output_type": "stream",
     "text": [
      "Accuracy: 0.45454545454545453\n",
      "f1 score: 0.43934943158244133\n"
     ]
    }
   ],
   "source": [
    "# create list of predicted and actual\n",
    "y_pred = list(df['sentiment_pred'])\n",
    "y_actual = list(df['sentiment'])\n",
    "\n",
    "# get accuracy and f1 score\n",
    "accuracy = accuracy_score(y_actual, y_pred)\n",
    "f1 = f1_score(y_actual, y_pred, average='macro')\n",
    "\n",
    "# print out the results\n",
    "print(f'Accuracy: {accuracy}')\n",
    "print(f'f1 score: {f1}')"
   ]
  },
  {
   "cell_type": "markdown",
   "id": "950b93e7",
   "metadata": {},
   "source": [
    "We've got 0.45 of accuracy and 0.44 of f1 score, which is not very satisfactory. However, it is always a good way to start a journey by implementing a heuristic model and setting a baseline. We could get better accuracy if we use more sophisticated way such as deep learning."
   ]
  }
 ],
 "metadata": {
  "kernelspec": {
   "display_name": "tf",
   "language": "python",
   "name": "tf"
  },
  "language_info": {
   "codemirror_mode": {
    "name": "ipython",
    "version": 3
   },
   "file_extension": ".py",
   "mimetype": "text/x-python",
   "name": "python",
   "nbconvert_exporter": "python",
   "pygments_lexer": "ipython3",
   "version": "3.8.12"
  }
 },
 "nbformat": 4,
 "nbformat_minor": 5
}
